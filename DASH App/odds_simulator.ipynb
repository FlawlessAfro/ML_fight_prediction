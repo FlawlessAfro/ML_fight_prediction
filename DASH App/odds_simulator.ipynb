{
 "cells": [
  {
   "cell_type": "code",
   "execution_count": 103,
   "metadata": {},
   "outputs": [],
   "source": [
    "from sklearn.ensemble import RandomForestClassifier\n",
    "from sklearn.model_selection import train_test_split\n",
    "from sklearn.metrics import accuracy_score, classification_report, confusion_matrix\n",
    "from sklearn.preprocessing import StandardScaler\n",
    "import pandas as pd\n",
    "import numpy as np\n",
    "import matplotlib.pyplot as plt\n",
    "import joblib\n"
   ]
  },
  {
   "cell_type": "code",
   "execution_count": null,
   "metadata": {},
   "outputs": [],
   "source": [
    "def get_odds():\n",
    "    df = pd.read_csv('../CSV Files/df_ufc_masters_w_reversed.csv')\n",
    "    features = [\n",
    "    'r_avg_sig_str_landed',\n",
    "    'r_avg_sig_str_pct',\n",
    "    'r_avg_sub_att',\n",
    "    'r_avg_td_landed',\n",
    "    'r_avg_td_pct',\n",
    "    'r_height_cms',\n",
    "    'r_reach_cms', \n",
    "    'r_age',\n",
    "    'b_avg_sig_str_landed',\n",
    "    'b_avg_sig_str_pct',\n",
    "    'b_avg_sub_att',\n",
    "    'b_avg_td_landed',\n",
    "    'b_avg_td_pct',\n",
    "    'b_height_cms',\n",
    "    'b_reach_cms', \n",
    "    'b_age']\n",
    "    X =df[features]\n",
    "    y= df['winner']\n",
    "    X_train, X_test, y_train, y_test = train_test_split(X, y, test_size=0.2)\n",
    "    y_train_encoded = y_train.apply(lambda x: 1 if x == 'Red' else 0)\n",
    "    y_test_encoded = y_test.apply(lambda x: 1 if x == 'Red' else 0)\n",
    "    random_forest_model = RandomForestClassifier(n_estimators=50,max_depth=3,min_samples_split=5, random_state=42)\n",
    "    random_forest_model.fit(X_train, y_train_encoded)\n",
    "    y_pred_percent= random_forest_model.predict_proba(X_test)\n",
    "    y_pred_proba_df = pd.DataFrame(y_pred_percent, columns=['Probability_Blue', 'Probability_Red'])\n",
    "    df.reset_index(drop=True, inplace=True)\n",
    "    y_pred_proba_df.reset_index(drop=True, inplace=True)\n",
    "    result_df = pd.concat([df, y_pred_proba_df], axis=1)"
   ]
  },
  {
   "cell_type": "code",
   "execution_count": null,
   "metadata": {},
   "outputs": [],
   "source": [
    "def simulating(bank, bet_amount):\n",
    "    df = pd.read_csv('../CSV Files/df_ufc_masters_w_reversed.csv')"
   ]
  },
  {
   "cell_type": "code",
   "execution_count": 104,
   "metadata": {},
   "outputs": [],
   "source": [
    "df = pd.read_csv('../CSV Files/df_ufc_masters_w_reversed.csv')"
   ]
  },
  {
   "cell_type": "code",
   "execution_count": 105,
   "metadata": {},
   "outputs": [],
   "source": [
    "features = [\n",
    "    'r_avg_sig_str_landed',\n",
    "    'r_avg_sig_str_pct',\n",
    "    'r_avg_sub_att',\n",
    "    'r_avg_td_landed',\n",
    "    'r_avg_td_pct',\n",
    "    'r_height_cms',\n",
    "    'r_reach_cms', \n",
    "    'r_age',\n",
    "    'b_avg_sig_str_landed',\n",
    "    'b_avg_sig_str_pct',\n",
    "    'b_avg_sub_att',\n",
    "    'b_avg_td_landed',\n",
    "    'b_avg_td_pct',\n",
    "    'b_height_cms',\n",
    "    'b_reach_cms', \n",
    "    'b_age']\n"
   ]
  },
  {
   "cell_type": "code",
   "execution_count": 106,
   "metadata": {},
   "outputs": [],
   "source": [
    "df['date'] = pd.to_datetime(df['date'])"
   ]
  },
  {
   "cell_type": "code",
   "execution_count": 107,
   "metadata": {},
   "outputs": [
    {
     "data": {
      "text/plain": [
       "pandas.core.series.Series"
      ]
     },
     "execution_count": 107,
     "metadata": {},
     "output_type": "execute_result"
    }
   ],
   "source": [
    "type(df['date'])"
   ]
  },
  {
   "cell_type": "code",
   "execution_count": 108,
   "metadata": {},
   "outputs": [],
   "source": [
    "train_end_date = '2020-09-05'\n",
    "test_start_date = '2020-09-06'"
   ]
  },
  {
   "cell_type": "code",
   "execution_count": 109,
   "metadata": {},
   "outputs": [],
   "source": [
    "df_train = df[(df['date'] <= train_end_date)]\n",
    "df_test = df[(df['date'] >= test_start_date)]"
   ]
  },
  {
   "cell_type": "code",
   "execution_count": 110,
   "metadata": {},
   "outputs": [],
   "source": [
    "X_train =df_train[features]\n",
    "y_train= df_train['winner']"
   ]
  },
  {
   "cell_type": "code",
   "execution_count": 111,
   "metadata": {},
   "outputs": [],
   "source": [
    "X_test =df_test[features]\n",
    "y_test= df_test['winner']"
   ]
  },
  {
   "cell_type": "code",
   "execution_count": 112,
   "metadata": {},
   "outputs": [],
   "source": [
    "#X =df[features]\n",
    "#y= df['winner']\n",
    "#X_train, X_test, y_train, y_test = train_test_split(X, y, test_size=0.2)"
   ]
  },
  {
   "cell_type": "code",
   "execution_count": 113,
   "metadata": {},
   "outputs": [],
   "source": [
    "y_train_encoded = y_train.apply(lambda x: 1 if x == 'Red' else 0)\n",
    "y_test_encoded = y_test.apply(lambda x: 1 if x == 'Red' else 0)"
   ]
  },
  {
   "cell_type": "code",
   "execution_count": 114,
   "metadata": {},
   "outputs": [
    {
     "data": {
      "text/html": [
       "<style>#sk-container-id-4 {color: black;}#sk-container-id-4 pre{padding: 0;}#sk-container-id-4 div.sk-toggleable {background-color: white;}#sk-container-id-4 label.sk-toggleable__label {cursor: pointer;display: block;width: 100%;margin-bottom: 0;padding: 0.3em;box-sizing: border-box;text-align: center;}#sk-container-id-4 label.sk-toggleable__label-arrow:before {content: \"▸\";float: left;margin-right: 0.25em;color: #696969;}#sk-container-id-4 label.sk-toggleable__label-arrow:hover:before {color: black;}#sk-container-id-4 div.sk-estimator:hover label.sk-toggleable__label-arrow:before {color: black;}#sk-container-id-4 div.sk-toggleable__content {max-height: 0;max-width: 0;overflow: hidden;text-align: left;background-color: #f0f8ff;}#sk-container-id-4 div.sk-toggleable__content pre {margin: 0.2em;color: black;border-radius: 0.25em;background-color: #f0f8ff;}#sk-container-id-4 input.sk-toggleable__control:checked~div.sk-toggleable__content {max-height: 200px;max-width: 100%;overflow: auto;}#sk-container-id-4 input.sk-toggleable__control:checked~label.sk-toggleable__label-arrow:before {content: \"▾\";}#sk-container-id-4 div.sk-estimator input.sk-toggleable__control:checked~label.sk-toggleable__label {background-color: #d4ebff;}#sk-container-id-4 div.sk-label input.sk-toggleable__control:checked~label.sk-toggleable__label {background-color: #d4ebff;}#sk-container-id-4 input.sk-hidden--visually {border: 0;clip: rect(1px 1px 1px 1px);clip: rect(1px, 1px, 1px, 1px);height: 1px;margin: -1px;overflow: hidden;padding: 0;position: absolute;width: 1px;}#sk-container-id-4 div.sk-estimator {font-family: monospace;background-color: #f0f8ff;border: 1px dotted black;border-radius: 0.25em;box-sizing: border-box;margin-bottom: 0.5em;}#sk-container-id-4 div.sk-estimator:hover {background-color: #d4ebff;}#sk-container-id-4 div.sk-parallel-item::after {content: \"\";width: 100%;border-bottom: 1px solid gray;flex-grow: 1;}#sk-container-id-4 div.sk-label:hover label.sk-toggleable__label {background-color: #d4ebff;}#sk-container-id-4 div.sk-serial::before {content: \"\";position: absolute;border-left: 1px solid gray;box-sizing: border-box;top: 0;bottom: 0;left: 50%;z-index: 0;}#sk-container-id-4 div.sk-serial {display: flex;flex-direction: column;align-items: center;background-color: white;padding-right: 0.2em;padding-left: 0.2em;position: relative;}#sk-container-id-4 div.sk-item {position: relative;z-index: 1;}#sk-container-id-4 div.sk-parallel {display: flex;align-items: stretch;justify-content: center;background-color: white;position: relative;}#sk-container-id-4 div.sk-item::before, #sk-container-id-4 div.sk-parallel-item::before {content: \"\";position: absolute;border-left: 1px solid gray;box-sizing: border-box;top: 0;bottom: 0;left: 50%;z-index: -1;}#sk-container-id-4 div.sk-parallel-item {display: flex;flex-direction: column;z-index: 1;position: relative;background-color: white;}#sk-container-id-4 div.sk-parallel-item:first-child::after {align-self: flex-end;width: 50%;}#sk-container-id-4 div.sk-parallel-item:last-child::after {align-self: flex-start;width: 50%;}#sk-container-id-4 div.sk-parallel-item:only-child::after {width: 0;}#sk-container-id-4 div.sk-dashed-wrapped {border: 1px dashed gray;margin: 0 0.4em 0.5em 0.4em;box-sizing: border-box;padding-bottom: 0.4em;background-color: white;}#sk-container-id-4 div.sk-label label {font-family: monospace;font-weight: bold;display: inline-block;line-height: 1.2em;}#sk-container-id-4 div.sk-label-container {text-align: center;}#sk-container-id-4 div.sk-container {/* jupyter's `normalize.less` sets `[hidden] { display: none; }` but bootstrap.min.css set `[hidden] { display: none !important; }` so we also need the `!important` here to be able to override the default hidden behavior on the sphinx rendered scikit-learn.org. See: https://github.com/scikit-learn/scikit-learn/issues/21755 */display: inline-block !important;position: relative;}#sk-container-id-4 div.sk-text-repr-fallback {display: none;}</style><div id=\"sk-container-id-4\" class=\"sk-top-container\"><div class=\"sk-text-repr-fallback\"><pre>RandomForestClassifier(max_depth=3, min_samples_split=5, n_estimators=50,\n",
       "                       random_state=42)</pre><b>In a Jupyter environment, please rerun this cell to show the HTML representation or trust the notebook. <br />On GitHub, the HTML representation is unable to render, please try loading this page with nbviewer.org.</b></div><div class=\"sk-container\" hidden><div class=\"sk-item\"><div class=\"sk-estimator sk-toggleable\"><input class=\"sk-toggleable__control sk-hidden--visually\" id=\"sk-estimator-id-4\" type=\"checkbox\" checked><label for=\"sk-estimator-id-4\" class=\"sk-toggleable__label sk-toggleable__label-arrow\">RandomForestClassifier</label><div class=\"sk-toggleable__content\"><pre>RandomForestClassifier(max_depth=3, min_samples_split=5, n_estimators=50,\n",
       "                       random_state=42)</pre></div></div></div></div></div>"
      ],
      "text/plain": [
       "RandomForestClassifier(max_depth=3, min_samples_split=5, n_estimators=50,\n",
       "                       random_state=42)"
      ]
     },
     "execution_count": 114,
     "metadata": {},
     "output_type": "execute_result"
    }
   ],
   "source": [
    "random_forest_model = RandomForestClassifier(n_estimators=50,max_depth=3,min_samples_split=5, random_state=42)\n",
    "random_forest_model.fit(X_train, y_train_encoded)"
   ]
  },
  {
   "cell_type": "code",
   "execution_count": 115,
   "metadata": {},
   "outputs": [],
   "source": [
    "y_pred_test = random_forest_model.predict(X_test)\n",
    "y_pred_train = random_forest_model.predict(X_train)"
   ]
  },
  {
   "cell_type": "code",
   "execution_count": 116,
   "metadata": {},
   "outputs": [],
   "source": [
    "y_pred_percent= random_forest_model.predict_proba(X_test)"
   ]
  },
  {
   "cell_type": "code",
   "execution_count": 117,
   "metadata": {},
   "outputs": [],
   "source": [
    "y_pred_proba_df = pd.DataFrame(y_pred_percent, columns=['Probability_Blue', 'Probability_Red'])\n",
    "df_test.reset_index(drop=True, inplace=True)\n",
    "y_pred_proba_df.reset_index(drop=True, inplace=True)\n",
    "result_df = pd.concat([df_test, y_pred_proba_df], axis=1)"
   ]
  },
  {
   "cell_type": "code",
   "execution_count": 118,
   "metadata": {},
   "outputs": [],
   "source": [
    "#result_df=result_df[['r_fighter', 'b_fighter', 'winner', 'r_odds', 'b_odds','r_ev', 'b_ev', 'Probability_Blue', 'Probability_Red']].dropna()"
   ]
  },
  {
   "cell_type": "code",
   "execution_count": 119,
   "metadata": {},
   "outputs": [],
   "source": [
    "condition_blue = (result_df['b_ev'] * result_df['Probability_Blue']-100*result_df['Probability_Red']) > 10\n",
    "condition_red = (result_df['r_ev'] * result_df['Probability_Red'] - 100*result_df['Probability_Blue']) > 10"
   ]
  },
  {
   "cell_type": "code",
   "execution_count": 120,
   "metadata": {},
   "outputs": [
    {
     "name": "stdout",
     "output_type": "stream",
     "text": [
      "-2005.3703773599996\n"
     ]
    }
   ],
   "source": [
    "bank=0\n",
    "for index, row in result_df.iterrows():\n",
    "    if condition_blue[index]:\n",
    "        bet_amount = 100  \n",
    "        \n",
    "        if row['winner'] == 'Blue':\n",
    "            #bank +=1\n",
    "            bank += row['b_ev'] * (bet_amount / 100)\n",
    "        else:\n",
    "            bank -= bet_amount\n",
    "        #print(f\"Who Win: {row['Winner']}, Blue price: {row['B_ev']}, Win prob: {row['Probability_Blue']}\")\n",
    "\n",
    "    elif condition_red[index]:\n",
    "        bet_amount = 1  \n",
    "        \n",
    "        if row['winner'] == 'Red':\n",
    "            #bank +=1\n",
    "            bank += row['r_ev'] * (bet_amount / 100)\n",
    "        else:\n",
    "            bank -= bet_amount\n",
    "        #print(f\"Who Win: {row['Winner']}, Red price: {row['R_ev']}, Win prob: {row['Probability_Red']}\")\n",
    "\n",
    "print(bank)"
   ]
  },
  {
   "cell_type": "code",
   "execution_count": 121,
   "metadata": {},
   "outputs": [
    {
     "data": {
      "image/png": "[encoded data removed]",
      "text/plain": [
       "<Figure size 640x480 with 1 Axes>"
      ]
     },
     "metadata": {},
     "output_type": "display_data"
    }
   ],
   "source": [
    "# Assuming result_df is your DataFrame\n",
    "# Initialize bank to 0\n",
    "bank = 0\n",
    "\n",
    "# List of threshold values to test\n",
    "threshold_values = range(0, 20)  # Adjust the range as needed\n",
    "\n",
    "# Lists to store results\n",
    "end_value = []\n",
    "\n",
    "for threshold in threshold_values:\n",
    "    condition_blue = (result_df['b_ev'] * result_df['Probability_Blue'] - 100 * result_df['Probability_Red']) > threshold\n",
    "    condition_red = (result_df['r_ev'] * result_df['Probability_Red'] - 100 * result_df['Probability_Blue']) > threshold\n",
    "\n",
    "    bank = 0  # Reset bank for each threshold value\n",
    "\n",
    "    for index, row in result_df.iterrows():\n",
    "        if condition_blue[index]:\n",
    "            bet_amount = 100\n",
    "\n",
    "            if row['winner'] == 'Blue':\n",
    "                bank += row['b_ev'] * (bet_amount / 100)\n",
    "            else:\n",
    "                bank -= bet_amount\n",
    "\n",
    "        elif condition_red[index]:\n",
    "            if row['winner'] == 'Red':\n",
    "                bank += row['r_ev'] * (bet_amount / 100)\n",
    "            else:\n",
    "                bank -= bet_amount\n",
    "\n",
    "    end_value.append(bank if condition_blue.any() else 0)\n",
    "\n",
    "    max_index = end_value.index(max(end_value))\n",
    "    max_threshold = list(threshold_values)[max_index]\n",
    "    max_value = max(end_value)\n",
    "\n",
    "# Plotting the results\n",
    "plt.plot(threshold_values, end_value, label='Potential Profit')\n",
    "plt.xlabel('Threshold Value')\n",
    "plt.ylabel('End Value in Bank')\n",
    "plt.legend()\n",
    "plt.title('Bank End Value vs Threshold Value')\n",
    "plt.show()"
   ]
  },
  {
   "cell_type": "code",
   "execution_count": 128,
   "metadata": {},
   "outputs": [
    {
     "data": {
      "image/png": "[encoded data removed]",
      "text/plain": [
       "<Figure size 640x480 with 1 Axes>"
      ]
     },
     "metadata": {},
     "output_type": "display_data"
    }
   ],
   "source": [
    "bank = 0\n",
    "threshold_values = range(0, 800)\n",
    "end_value = []\n",
    "bet_amount = 100\n",
    "\n",
    "for threshold in threshold_values:\n",
    "    condition_blue = ((result_df['b_ev'] * result_df['Probability_Blue'] - bet_amount * result_df['Probability_Red']) > max_index) & (result_df['b_ev']<threshold)\n",
    "    condition_red = ((result_df['r_ev'] * result_df['Probability_Red'] - bet_amount * result_df['Probability_Blue']) > max_index) & (result_df['r_ev']<threshold)\n",
    "\n",
    "    bank = 0 \n",
    "    for index, row in result_df.iterrows():\n",
    "        if condition_blue[index]:\n",
    "\n",
    "            if row['winner'] == 'Blue':\n",
    "                bank += row['b_ev'] * (bet_amount / 100)\n",
    "            else:\n",
    "                bank -= bet_amount\n",
    "\n",
    "        elif condition_red[index]:\n",
    "\n",
    "            if row['winner'] == 'Red':\n",
    "                bank += row['r_ev'] * (bet_amount / 100)\n",
    "            else:\n",
    "                bank -= bet_amount\n",
    "\n",
    "    end_value.append(bank)\n",
    "\n",
    "plt.plot(threshold_values, end_value, label='Potential Profit')\n",
    "plt.xlabel('Threshold Value')\n",
    "plt.ylabel('End Value in Bank')\n",
    "plt.legend()\n",
    "plt.title('Bank End Value vs Threshold Value')\n",
    "plt.savefig(\"../DASH App/assets/bank_end_value_plot.png\")\n",
    "\n",
    "plt.show()"
   ]
  },
  {
   "cell_type": "code",
   "execution_count": 123,
   "metadata": {},
   "outputs": [],
   "source": [
    "bank = 0\n",
    "threshold_values = range(100, 800)\n",
    "end_value = []\n",
    "won_value=[]\n",
    "loss_value=[]\n",
    "bet_amount = 100\n",
    "\n",
    "\n",
    "for threshold in threshold_values:\n",
    "    condition_blue = ((result_df['b_ev'] * result_df['Probability_Blue'] - bet_amount * result_df['Probability_Red']) > max_index) & (result_df['b_ev']<threshold)\n",
    "    condition_red = ((result_df['r_ev'] * result_df['Probability_Red'] - bet_amount * result_df['Probability_Blue']) > max_index) & (result_df['r_ev']<threshold)\n",
    "\n",
    "    bank = 0 \n",
    "    won=0\n",
    "    loss=0\n",
    "    for index, row in result_df.iterrows():\n",
    "        if condition_blue[index]:\n",
    "            if row['winner'] == 'Blue':\n",
    "                bank += row['b_ev'] * (bet_amount / 100)\n",
    "                won+=1\n",
    "            else:\n",
    "                bank -= bet_amount\n",
    "                loss+=1\n",
    "\n",
    "        elif condition_red[index]:\n",
    "\n",
    "            if row['winner'] == 'Red':\n",
    "                bank += row['r_ev'] * (bet_amount / 100)\n",
    "                won+=1\n",
    "            else:\n",
    "                bank -= bet_amount\n",
    "                loss+=1\n",
    "\n",
    "    end_value.append(bank)\n",
    "    won_value.append(won)\n",
    "    loss_value.append(loss)\n",
    "    #if condition_blue.any() else 0"
   ]
  },
  {
   "cell_type": "code",
   "execution_count": 124,
   "metadata": {},
   "outputs": [
    {
     "name": "stdout",
     "output_type": "stream",
     "text": [
      "Accuracy: 0.6055\n",
      "Confusion Matrix:\n",
      " [[2606 1756]\n",
      " [1686 2676]]\n",
      "Classification Report:\n",
      "               precision    recall  f1-score   support\n",
      "\n",
      "           0       0.61      0.60      0.60      4362\n",
      "           1       0.60      0.61      0.61      4362\n",
      "\n",
      "    accuracy                           0.61      8724\n",
      "   macro avg       0.61      0.61      0.61      8724\n",
      "weighted avg       0.61      0.61      0.61      8724\n",
      "\n"
     ]
    }
   ],
   "source": [
    "accuracy = accuracy_score(y_train_encoded, y_pred_train)\n",
    "conf_matrix = confusion_matrix(y_train_encoded, y_pred_train)\n",
    "classification_rep = classification_report(y_train_encoded, y_pred_train)\n",
    "\n",
    "print(f\"Accuracy: {accuracy:.4f}\")\n",
    "print(\"Confusion Matrix:\\n\", conf_matrix)\n",
    "print(\"Classification Report:\\n\", classification_rep)"
   ]
  },
  {
   "cell_type": "code",
   "execution_count": 125,
   "metadata": {},
   "outputs": [
    {
     "name": "stdout",
     "output_type": "stream",
     "text": [
      "Accuracy: 0.5637\n",
      "Confusion Matrix:\n",
      " [[292 242]\n",
      " [224 310]]\n",
      "Classification Report:\n",
      "               precision    recall  f1-score   support\n",
      "\n",
      "           0       0.57      0.55      0.56       534\n",
      "           1       0.56      0.58      0.57       534\n",
      "\n",
      "    accuracy                           0.56      1068\n",
      "   macro avg       0.56      0.56      0.56      1068\n",
      "weighted avg       0.56      0.56      0.56      1068\n",
      "\n"
     ]
    }
   ],
   "source": [
    "accuracy = accuracy_score(y_test_encoded, y_pred_test)\n",
    "conf_matrix = confusion_matrix(y_test_encoded, y_pred_test)\n",
    "classification_rep = classification_report(y_test_encoded, y_pred_test)\n",
    "\n",
    "print(f\"Accuracy: {accuracy:.4f}\")\n",
    "print(\"Confusion Matrix:\\n\", conf_matrix)\n",
    "print(\"Classification Report:\\n\", classification_rep)"
   ]
  },
  {
   "cell_type": "code",
   "execution_count": 126,
   "metadata": {},
   "outputs": [
    {
     "data": {
      "text/plain": [
       "['random_forest.pkl']"
      ]
     },
     "execution_count": 126,
     "metadata": {},
     "output_type": "execute_result"
    }
   ],
   "source": [
    "joblib.dump(random_forest_model, 'random_forest.pkl')"
   ]
  }
 ],
 "metadata": {
  "kernelspec": {
   "display_name": "Python 3",
   "language": "python",
   "name": "python3"
  },
  "language_info": {
   "codemirror_mode": {
    "name": "ipython",
    "version": 3
   },
   "file_extension": ".py",
   "mimetype": "text/x-python",
   "name": "python",
   "nbconvert_exporter": "python",
   "pygments_lexer": "ipython3",
   "version": "3.11.7"
  }
 },
 "nbformat": 4,
 "nbformat_minor": 2
}
