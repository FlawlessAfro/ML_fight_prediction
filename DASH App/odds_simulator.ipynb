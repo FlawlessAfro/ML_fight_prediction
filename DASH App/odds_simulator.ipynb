{
 "cells": [
  {
   "cell_type": "code",
   "execution_count": 33,
   "metadata": {},
   "outputs": [],
   "source": [
    "import xgboost as xgb\n",
    "from sklearn.model_selection import train_test_split\n",
    "from sklearn.metrics import accuracy_score, classification_report, confusion_matrix\n",
    "from sklearn.preprocessing import StandardScaler\n",
    "import pandas as pd\n",
    "import numpy as np\n",
    "import matplotlib.pyplot as plt\n",
    "import joblib\n"
   ]
  },
  {
   "cell_type": "code",
   "execution_count": 34,
   "metadata": {},
   "outputs": [],
   "source": [
    "def get_odds():\n",
    "    df = pd.read_csv('../CSV Files/df_ufc_masters_w_reversed.csv')\n",
    "    features = [\n",
    "    'r_avg_sig_str_landed',\n",
    "    'r_avg_sig_str_pct',\n",
    "    'r_avg_sub_att',\n",
    "    'r_avg_td_landed',\n",
    "    'r_avg_td_pct',\n",
    "    'r_height_cms',\n",
    "    'r_reach_cms', \n",
    "    'r_age',\n",
    "    'b_avg_sig_str_landed',\n",
    "    'b_avg_sig_str_pct',\n",
    "    'b_avg_sub_att',\n",
    "    'b_avg_td_landed',\n",
    "    'b_avg_td_pct',\n",
    "    'b_height_cms',\n",
    "    'b_reach_cms', \n",
    "    'b_age']\n",
    "    train_end_date = '2020-09-05'\n",
    "    test_start_date = '2020-09-06'\n",
    "    df_train = df[(df['date'] <= train_end_date)]\n",
    "    df_test = df[(df['date'] >= test_start_date)]\n",
    "    X_train =df_train[features]\n",
    "    y_train= df_train['winner']\n",
    "    X_test =df_test[features]\n",
    "    y_test= df_test['winner']\n",
    "    y_train_encoded = y_train.apply(lambda x: 1 if x == 'Red' else 0)\n",
    "    xgb_model = xgb.XGBClassifier(n_estimators=100,\n",
    "    learning_rate=0.01,\n",
    "    max_depth=4,\n",
    "    min_child_weight=3,\n",
    "    subsample=0.8,\n",
    "    colsample_bytree=0.3,\n",
    "    eval_metric='logloss',\n",
    "    use_label_encoder=False) \n",
    "    xgb_model.fit(X_train, y_train_encoded)   \n",
    "    y_pred_percent= xgb_model.predict_proba(X_test)\n",
    "    y_pred_proba_df = pd.DataFrame(y_pred_percent, columns=['Probability_Blue', 'Probability_Red'])\n",
    "    df_test.reset_index(drop=True, inplace=True)\n",
    "    y_pred_proba_df.reset_index(drop=True, inplace=True)\n",
    "    result_df = pd.concat([df_test, y_pred_proba_df], axis=1)\n",
    "    return result_df"
   ]
  },
  {
   "cell_type": "code",
   "execution_count": 35,
   "metadata": {},
   "outputs": [
    {
     "data": {
      "text/plain": [
       "346"
      ]
     },
     "execution_count": 35,
     "metadata": {},
     "output_type": "execute_result"
    }
   ],
   "source": [
    "#bank, bet_amount\n",
    "def simulating():\n",
    "    result_df = get_odds()\n",
    "    threshold_values = range(0, 500) \n",
    "    end_value = []\n",
    "\n",
    "    for threshold in threshold_values:\n",
    "        condition_blue = (result_df['b_ev'] * result_df['Probability_Blue'] - 100 * result_df['Probability_Red']) > threshold\n",
    "        condition_red = (result_df['r_ev'] * result_df['Probability_Red'] - 100 * result_df['Probability_Blue']) > threshold\n",
    "\n",
    "        bank = 0 \n",
    "        for index, row in result_df.iterrows():\n",
    "            if condition_blue[index]:\n",
    "                bet_amount = 100\n",
    "\n",
    "                if row['winner'] == 'Blue':\n",
    "                    bank += row['b_ev'] * (bet_amount / 100)\n",
    "                else:\n",
    "                    bank -= bet_amount\n",
    "\n",
    "            elif condition_red[index]:\n",
    "                if row['winner'] == 'Red':\n",
    "                    bank += row['r_ev'] * (bet_amount / 100)\n",
    "                else:\n",
    "                    bank -= bet_amount\n",
    "\n",
    "        end_value.append(bank)\n",
    "\n",
    "        max_index = end_value.index(max(end_value))\n",
    "        max_threshold = list(threshold_values)[max_index]\n",
    "        max_value = max(end_value)\n",
    "    return max_index\n",
    "\n",
    "simulating()"
   ]
  },
  {
   "cell_type": "code",
   "execution_count": 36,
   "metadata": {},
   "outputs": [
    {
     "data": {
      "text/plain": [
       "[400.0, 4, 6]"
      ]
     },
     "execution_count": 36,
     "metadata": {},
     "output_type": "execute_result"
    }
   ],
   "source": [
    "def find_profit(bet_amount):\n",
    "    result_df= get_odds()\n",
    "    max_index = simulating()\n",
    "    threshold_values = range(0, 800)\n",
    "    end_value = []\n",
    "    wins =[]\n",
    "    losses=[]\n",
    "\n",
    "    for threshold in threshold_values:\n",
    "        condition_blue = ((result_df['b_ev'] * result_df['Probability_Blue'] - bet_amount * result_df['Probability_Red']) > max_index) & (result_df['b_ev']<threshold)\n",
    "        condition_red = ((result_df['r_ev'] * result_df['Probability_Red'] - bet_amount * result_df['Probability_Blue']) > max_index) & (result_df['r_ev']<threshold)\n",
    "\n",
    "        bank = 0 \n",
    "        win=0\n",
    "        loss=0\n",
    "        for index, row in result_df.iterrows():\n",
    "            if condition_blue[index]:\n",
    "\n",
    "                if row['winner'] == 'Blue':\n",
    "                    bank += row['b_ev'] * (bet_amount / 100)\n",
    "                    win+=1\n",
    "                else:\n",
    "                    bank -= bet_amount\n",
    "                    loss+=1\n",
    "\n",
    "            elif condition_red[index]:\n",
    "\n",
    "                if row['winner'] == 'Red':\n",
    "                    bank += row['r_ev'] * (bet_amount / 100)\n",
    "                    win+=1\n",
    "                else:\n",
    "                    bank -= bet_amount\n",
    "                    loss+=1\n",
    "\n",
    "        end_value.append(bank)\n",
    "        wins.append(win)\n",
    "        losses.append(loss)\n",
    "\n",
    "        max_bank= max(end_value)\n",
    "        max_index = end_value.index(max(end_value))    \n",
    "        win_count = wins[max_index]\n",
    "        loss_count = losses[max_index]\n",
    "        info=[max_bank, win_count, loss_count]\n",
    "    return info\n",
    "        \n",
    "find_profit(100)"
   ]
  }
 ],
 "metadata": {
  "kernelspec": {
   "display_name": "Python 3",
   "language": "python",
   "name": "python3"
  },
  "language_info": {
   "codemirror_mode": {
    "name": "ipython",
    "version": 3
   },
   "file_extension": ".py",
   "mimetype": "text/x-python",
   "name": "python",
   "nbconvert_exporter": "python",
   "pygments_lexer": "ipython3",
   "version": "3.11.7"
  }
 },
 "nbformat": 4,
 "nbformat_minor": 2
}
