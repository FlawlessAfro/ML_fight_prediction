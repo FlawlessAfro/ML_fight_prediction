{
 "cells": [
  {
   "cell_type": "code",
   "execution_count": 6,
   "metadata": {},
   "outputs": [],
   "source": [
    "import psycopg2\n",
    "import pandas as pd\n",
    "from sklearn.preprocessing import StandardScaler\n",
    "import numpy as np"
   ]
  },
  {
   "cell_type": "code",
   "execution_count": 2,
   "metadata": {},
   "outputs": [],
   "source": [
    "conn_string='host=summer22data.postgres.database.azure.com user=student_dennis dbname=daily_dennis password=dennis'"
   ]
  },
  {
   "cell_type": "code",
   "execution_count": 3,
   "metadata": {},
   "outputs": [
    {
     "name": "stdout",
     "output_type": "stream",
     "text": [
      "Connection established\n"
     ]
    }
   ],
   "source": [
    "conn = psycopg2.connect(conn_string)\n",
    "if conn.closed == 0:\n",
    "    print(\"Connection established\")"
   ]
  },
  {
   "cell_type": "code",
   "execution_count": 4,
   "metadata": {},
   "outputs": [
    {
     "name": "stderr",
     "output_type": "stream",
     "text": [
      "C:\\Users\\AleksanderHalfstadAa\\AppData\\Local\\Temp\\ipykernel_18188\\266383765.py:2: UserWarning: pandas only supports SQLAlchemy connectable (engine/connection) or database string URI or sqlite3 DBAPI2 connection. Other DBAPI2 objects are not tested. Please consider using SQLAlchemy.\n",
      "  df_fighters = pd.read_sql(fighters_query, conn)\n",
      "C:\\Users\\AleksanderHalfstadAa\\AppData\\Local\\Temp\\ipykernel_18188\\266383765.py:4: UserWarning: pandas only supports SQLAlchemy connectable (engine/connection) or database string URI or sqlite3 DBAPI2 connection. Other DBAPI2 objects are not tested. Please consider using SQLAlchemy.\n",
      "  df_odds = pd.read_sql(odds_query, conn)\n",
      "C:\\Users\\AleksanderHalfstadAa\\AppData\\Local\\Temp\\ipykernel_18188\\266383765.py:6: UserWarning: pandas only supports SQLAlchemy connectable (engine/connection) or database string URI or sqlite3 DBAPI2 connection. Other DBAPI2 objects are not tested. Please consider using SQLAlchemy.\n",
      "  fights_query = pd.read_sql(fights_query, conn)\n"
     ]
    }
   ],
   "source": [
    "fighters_query = 'SELECT * FROM fighters'\n",
    "df_fighters = pd.read_sql(fighters_query, conn)\n",
    "odds_query = 'SELECT * FROM odds'\n",
    "df_odds = pd.read_sql(odds_query, conn)\n",
    "fights_query = 'SELECT * from mma_fights'\n",
    "df_fights = pd.read_sql(fights_query, conn)\n",
    "conn.close()"
   ]
  },
  {
   "cell_type": "code",
   "execution_count": 16,
   "metadata": {},
   "outputs": [],
   "source": [
    "def scale_and_log_columns(dataframe, columns_to_scale, columns_to_log):\n",
    "    \n",
    "    transformed_df = dataframe.copy()\n",
    "    scaler = StandardScaler()\n",
    "    \n",
    "    transformed_df[columns_to_scale] = scaler.fit_transform(transformed_df[columns_to_scale])\n",
    "\n",
    "    transformed_df[columns_to_log] = transformed_df[columns_to_log].apply(lambda x: np.log1p(x) if x.min() > 0 else x)\n",
    "\n",
    "    return transformed_df"
   ]
  },
  {
   "cell_type": "markdown",
   "metadata": {},
   "source": [
    "Fighter Scaling"
   ]
  },
  {
   "cell_type": "code",
   "execution_count": 15,
   "metadata": {},
   "outputs": [],
   "source": [
    "features_to_scale = [\n",
    "    'r_avg_sig_str_landed',\n",
    "    'r_avg_sig_str_landed',\n",
    "    'r_avg_sig_str_pct',\n",
    "    'r_avg_sub_att',\n",
    "    'r_avg_td_landed',\n",
    "    'r_avg_td_pct',\n",
    "    'r_height_cms',\n",
    "    'r_reach_cms', \n",
    "    'r_age']\n",
    "features_to_log= ['r_avg_sig_str_landed', 'r_avg_sub_att', 'r_avg_td_landed']\n",
    "processed_fighter =scale_and_log_columns(df_fighters, features_to_scale, features_to_log)"
   ]
  },
  {
   "cell_type": "markdown",
   "metadata": {},
   "source": [
    "Fight Scaling"
   ]
  },
  {
   "cell_type": "code",
   "execution_count": null,
   "metadata": {},
   "outputs": [],
   "source": [
    "features_to_scale = [\n",
    "    'B_avg_SIG_STR_landed',\n",
    "    'B_avg_SIG_STR_pct',\n",
    "    'B_avg_SUB_ATT',\n",
    "    'B_avg_TD_landed',\n",
    "    'B_avg_TD_pct',\n",
    "    'R_avg_SIG_STR_landed',\n",
    "    'R_avg_SIG_STR_pct',\n",
    "    'R_avg_SUB_ATT',\n",
    "    'R_avg_TD_landed',\n",
    "    'R_avg_TD_pct',\n",
    "    'B_Height_cms',\n",
    "    'B_Reach_cms',\n",
    "    'R_Height_cms',\n",
    "    'R_Reach_cms', \n",
    "    'R_age',\n",
    "    'B_age']\n",
    "features_to_log= ['B_avg_SIG_STR_landed', 'B_avg_SUB_ATT', 'B_avg_TD_landed', \n",
    "                  'R_avg_SIG_STR_landed', 'R_avg_SUB_ATT', 'R_avg_TD_landed']\n",
    "processed_fights =scale_and_log_columns(df_fights, features_to_scale, features_to_log)"
   ]
  }
 ],
 "metadata": {
  "kernelspec": {
   "display_name": "Python 3",
   "language": "python",
   "name": "python3"
  },
  "language_info": {
   "codemirror_mode": {
    "name": "ipython",
    "version": 3
   },
   "file_extension": ".py",
   "mimetype": "text/x-python",
   "name": "python",
   "nbconvert_exporter": "python",
   "pygments_lexer": "ipython3",
   "version": "3.11.7"
  }
 },
 "nbformat": 4,
 "nbformat_minor": 2
}
