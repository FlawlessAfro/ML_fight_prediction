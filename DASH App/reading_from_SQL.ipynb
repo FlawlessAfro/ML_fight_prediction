{
 "cells": [
  {
   "cell_type": "code",
   "execution_count": 10,
   "metadata": {},
   "outputs": [],
   "source": [
    "import psycopg2\n",
    "import pandas as pd\n",
    "from sklearn.preprocessing import StandardScaler\n",
    "import numpy as np"
   ]
  },
  {
   "cell_type": "code",
   "execution_count": 11,
   "metadata": {},
   "outputs": [],
   "source": [
    "conn_string='host=summer22data.postgres.database.azure.com user=student_dennis dbname=daily_dennis password=dennis'"
   ]
  },
  {
   "cell_type": "code",
   "execution_count": 12,
   "metadata": {},
   "outputs": [
    {
     "name": "stdout",
     "output_type": "stream",
     "text": [
      "Connection established\n"
     ]
    }
   ],
   "source": [
    "conn = psycopg2.connect(conn_string)\n",
    "if conn.closed == 0:\n",
    "    print(\"Connection established\")"
   ]
  },
  {
   "cell_type": "code",
   "execution_count": 13,
   "metadata": {},
   "outputs": [
    {
     "name": "stderr",
     "output_type": "stream",
     "text": [
      "C:\\Users\\AleksanderHalfstadAa\\AppData\\Local\\Temp\\ipykernel_17976\\186172522.py:2: UserWarning: pandas only supports SQLAlchemy connectable (engine/connection) or database string URI or sqlite3 DBAPI2 connection. Other DBAPI2 objects are not tested. Please consider using SQLAlchemy.\n",
      "  df_fighters = pd.read_sql(fighters_query, conn)\n",
      "C:\\Users\\AleksanderHalfstadAa\\AppData\\Local\\Temp\\ipykernel_17976\\186172522.py:4: UserWarning: pandas only supports SQLAlchemy connectable (engine/connection) or database string URI or sqlite3 DBAPI2 connection. Other DBAPI2 objects are not tested. Please consider using SQLAlchemy.\n",
      "  df_odds = pd.read_sql(odds_query, conn)\n",
      "C:\\Users\\AleksanderHalfstadAa\\AppData\\Local\\Temp\\ipykernel_17976\\186172522.py:6: UserWarning: pandas only supports SQLAlchemy connectable (engine/connection) or database string URI or sqlite3 DBAPI2 connection. Other DBAPI2 objects are not tested. Please consider using SQLAlchemy.\n",
      "  df_fights = pd.read_sql(fights_query, conn)\n"
     ]
    }
   ],
   "source": [
    "fighters_query = 'SELECT * FROM fighters'\n",
    "df_fighters = pd.read_sql(fighters_query, conn)\n",
    "odds_query = 'SELECT * FROM odds'\n",
    "df_odds = pd.read_sql(odds_query, conn)\n",
    "fights_query = 'SELECT * from mma_fights'\n",
    "df_fights = pd.read_sql(fights_query, conn)\n",
    "conn.close()"
   ]
  },
  {
   "cell_type": "code",
   "execution_count": 14,
   "metadata": {},
   "outputs": [],
   "source": [
    "def scale_and_log_columns(dataframe, columns_to_scale, columns_to_log):\n",
    "    \n",
    "    transformed_df = dataframe.copy()\n",
    "    scaler = StandardScaler()\n",
    "    \n",
    "    transformed_df[columns_to_scale] = scaler.fit_transform(transformed_df[columns_to_scale])\n",
    "\n",
    "    transformed_df[columns_to_log] = transformed_df[columns_to_log].apply(lambda x: np.log1p(x) if x.min() > 0 else x)\n",
    "\n",
    "    return transformed_df"
   ]
  },
  {
   "cell_type": "markdown",
   "metadata": {},
   "source": [
    "Fighter Scaling"
   ]
  },
  {
   "cell_type": "code",
   "execution_count": 15,
   "metadata": {},
   "outputs": [],
   "source": [
    "features_to_scale = [\n",
    "    'r_avg_sig_str_landed',\n",
    "    'r_avg_sig_str_landed',\n",
    "    'r_avg_sig_str_pct',\n",
    "    'r_avg_sub_att',\n",
    "    'r_avg_td_landed',\n",
    "    'r_avg_td_pct',\n",
    "    'r_height_cms',\n",
    "    'r_reach_cms', \n",
    "    'r_age']\n",
    "features_to_log= ['r_avg_sig_str_landed', 'r_avg_sub_att', 'r_avg_td_landed']\n",
    "processed_fighter =scale_and_log_columns(df_fighters, features_to_scale, features_to_log)"
   ]
  },
  {
   "cell_type": "code",
   "execution_count": 16,
   "metadata": {},
   "outputs": [],
   "source": [
    "columns_to_fill_0 = [\n",
    "    'r_avg_sig_str_landed',\n",
    "    'r_avg_sig_str_pct',\n",
    "    'r_avg_sub_att',\n",
    "    'r_avg_td_landed',\n",
    "    'r_avg_td_pct',\n",
    "    'b_avg_sig_str_landed',\n",
    "    'b_avg_sig_str_pct',\n",
    "    'b_avg_sub_att',\n",
    "    'b_avg_td_landed',\n",
    "    'b_avg_td_pct'\n",
    "]\n",
    "\n",
    "df_fights[columns_to_fill_0] = df_fights[columns_to_fill_0].fillna(0)"
   ]
  },
  {
   "cell_type": "markdown",
   "metadata": {},
   "source": [
    "Fight Scaling"
   ]
  },
  {
   "cell_type": "code",
   "execution_count": 17,
   "metadata": {},
   "outputs": [],
   "source": [
    "features_to_scale = [\n",
    "    'r_avg_sig_str_landed',\n",
    "    'r_avg_sig_str_landed',\n",
    "    'r_avg_sig_str_pct',\n",
    "    'r_avg_sub_att',\n",
    "    'r_avg_td_landed',\n",
    "    'r_avg_td_pct',\n",
    "    'r_height_cms',\n",
    "    'r_reach_cms', \n",
    "    'r_age',\n",
    "    'b_avg_sig_str_landed',\n",
    "    'b_avg_sig_str_landed',\n",
    "    'b_avg_sig_str_pct',\n",
    "    'b_avg_sub_att',\n",
    "    'b_avg_td_landed',\n",
    "    'b_avg_td_pct',\n",
    "    'b_height_cms',\n",
    "    'b_reach_cms', \n",
    "    'b_age']\n",
    "features_to_log= ['r_avg_sig_str_landed', 'r_avg_sub_att', 'r_avg_td_landed',\n",
    "                  'b_avg_sig_str_landed', 'b_avg_sub_att', 'b_avg_td_landed']\n",
    "processed_fights =scale_and_log_columns(df_fights, features_to_scale, features_to_log)"
   ]
  },
  {
   "cell_type": "code",
   "execution_count": 18,
   "metadata": {},
   "outputs": [],
   "source": [
    "red_columns = []\n",
    "blue_columns = []\n",
    "for col in processed_fights.columns:\n",
    "    if col.startswith('r_'):\n",
    "        red_columns.append(col)\n",
    "    elif col.startswith('b_'):\n",
    "        blue_columns.append(col)\n",
    "\n",
    "df_ufc_swapped = processed_fights.copy()\n",
    "\n",
    "for r_col, b_col in zip(red_columns, blue_columns):\n",
    "    df_ufc_swapped[[r_col, b_col]] = df_ufc_swapped[[b_col, r_col]]\n",
    "\n",
    "winner_swap = {'Red': 'Blue', 'Blue': 'Red'}\n",
    "df_ufc_swapped['winner'] = df_ufc_swapped['winner'].map(winner_swap)\n",
    "\n",
    "df_ufc_combined = pd.concat([processed_fights, df_ufc_swapped], ignore_index=True)"
   ]
  },
  {
   "cell_type": "code",
   "execution_count": 19,
   "metadata": {},
   "outputs": [],
   "source": [
    "df_ufc_combined.to_csv('../CSV Files/df_ufc_masters_w_reversed.csv', index=False)\n",
    "processed_fighter.to_csv('../CSV Files/unique_fighters.csv', index=False)"
   ]
  },
  {
   "cell_type": "markdown",
   "metadata": {},
   "source": [
    "ODDS TABELL TIL DATAFRAME"
   ]
  },
  {
   "cell_type": "code",
   "execution_count": 20,
   "metadata": {},
   "outputs": [
    {
     "data": {
      "text/plain": [
       "Index(['date', 'fighter_a', 'fighter_b', 'bookmaker', 'odds_a', 'odds_b'], dtype='object')"
      ]
     },
     "execution_count": 20,
     "metadata": {},
     "output_type": "execute_result"
    }
   ],
   "source": [
    "df_odds.columns"
   ]
  },
  {
   "cell_type": "code",
   "execution_count": 21,
   "metadata": {},
   "outputs": [],
   "source": [
    "\n",
    "df_duplicated = df_odds.copy()\n",
    "\n",
    "df_duplicated[['fighter_a', 'fighter_b']] = df_duplicated[['fighter_b', 'fighter_a']]\n",
    "df_duplicated[['odds_a', 'odds_b']] = df_duplicated[['odds_b', 'odds_a']]\n",
    "\n",
    "combined_df = pd.concat([df_odds, df_duplicated], ignore_index=True)"
   ]
  },
  {
   "cell_type": "code",
   "execution_count": 22,
   "metadata": {},
   "outputs": [],
   "source": [
    "combined_df['date'] = pd.to_datetime(combined_df['date'])\n",
    "\n",
    "# Format the datetime objects to get only the date part\n",
    "combined_df['date'] = combined_df['date'].dt.date"
   ]
  },
  {
   "cell_type": "code",
   "execution_count": 23,
   "metadata": {},
   "outputs": [
    {
     "data": {
      "text/plain": [
       "0        2020-12-31\n",
       "1        2020-12-31\n",
       "2        2020-12-31\n",
       "3        2020-12-31\n",
       "4        2020-12-31\n",
       "            ...    \n",
       "26487    2024-03-10\n",
       "26488    2024-03-10\n",
       "26489    2024-03-10\n",
       "26490    2024-03-10\n",
       "26491    2024-03-10\n",
       "Name: date, Length: 26492, dtype: object"
      ]
     },
     "execution_count": 23,
     "metadata": {},
     "output_type": "execute_result"
    }
   ],
   "source": [
    "combined_df['date']"
   ]
  },
  {
   "cell_type": "code",
   "execution_count": 28,
   "metadata": {},
   "outputs": [
    {
     "data": {
      "text/html": [
       "<div>\n",
       "<style scoped>\n",
       "    .dataframe tbody tr th:only-of-type {\n",
       "        vertical-align: middle;\n",
       "    }\n",
       "\n",
       "    .dataframe tbody tr th {\n",
       "        vertical-align: top;\n",
       "    }\n",
       "\n",
       "    .dataframe thead th {\n",
       "        text-align: right;\n",
       "    }\n",
       "</style>\n",
       "<table border=\"1\" class=\"dataframe\">\n",
       "  <thead>\n",
       "    <tr style=\"text-align: right;\">\n",
       "      <th></th>\n",
       "      <th>date</th>\n",
       "      <th>fighter_a</th>\n",
       "      <th>fighter_b</th>\n",
       "      <th>bookmaker</th>\n",
       "      <th>odds_a</th>\n",
       "      <th>odds_b</th>\n",
       "      <th>ev_a</th>\n",
       "      <th>ev_b</th>\n",
       "    </tr>\n",
       "  </thead>\n",
       "  <tbody>\n",
       "    <tr>\n",
       "      <th>0</th>\n",
       "      <td>2020-12-31</td>\n",
       "      <td>Conor McGregor</td>\n",
       "      <td>Khabib Nurmagomedov</td>\n",
       "      <td>Unibet</td>\n",
       "      <td>250</td>\n",
       "      <td>-345</td>\n",
       "      <td>250.000000</td>\n",
       "      <td>28.985507</td>\n",
       "    </tr>\n",
       "    <tr>\n",
       "      <th>1</th>\n",
       "      <td>2020-12-31</td>\n",
       "      <td>Conor McGregor</td>\n",
       "      <td>Nate Diaz</td>\n",
       "      <td>Unibet</td>\n",
       "      <td>-278</td>\n",
       "      <td>205</td>\n",
       "      <td>35.971223</td>\n",
       "      <td>205.000000</td>\n",
       "    </tr>\n",
       "    <tr>\n",
       "      <th>2</th>\n",
       "      <td>2020-12-31</td>\n",
       "      <td>Conor McGregor</td>\n",
       "      <td>Jorge Masvidal</td>\n",
       "      <td>Unibet</td>\n",
       "      <td>135</td>\n",
       "      <td>-175</td>\n",
       "      <td>135.000000</td>\n",
       "      <td>57.142857</td>\n",
       "    </tr>\n",
       "    <tr>\n",
       "      <th>3</th>\n",
       "      <td>2020-12-31</td>\n",
       "      <td>Conor McGregor</td>\n",
       "      <td>Justin Gaethje</td>\n",
       "      <td>Unibet</td>\n",
       "      <td>-130</td>\n",
       "      <td>100</td>\n",
       "      <td>76.923077</td>\n",
       "      <td>100.000000</td>\n",
       "    </tr>\n",
       "    <tr>\n",
       "      <th>4</th>\n",
       "      <td>2020-12-31</td>\n",
       "      <td>Conor McGregor</td>\n",
       "      <td>Tony Ferguson</td>\n",
       "      <td>Unibet</td>\n",
       "      <td>-238</td>\n",
       "      <td>180</td>\n",
       "      <td>42.016807</td>\n",
       "      <td>180.000000</td>\n",
       "    </tr>\n",
       "    <tr>\n",
       "      <th>...</th>\n",
       "      <td>...</td>\n",
       "      <td>...</td>\n",
       "      <td>...</td>\n",
       "      <td>...</td>\n",
       "      <td>...</td>\n",
       "      <td>...</td>\n",
       "      <td>...</td>\n",
       "      <td>...</td>\n",
       "    </tr>\n",
       "    <tr>\n",
       "      <th>26487</th>\n",
       "      <td>2024-03-10</td>\n",
       "      <td>Sean O'Malley</td>\n",
       "      <td>Marlon Vera</td>\n",
       "      <td>LowVig.ag</td>\n",
       "      <td>-185</td>\n",
       "      <td>160</td>\n",
       "      <td>54.054054</td>\n",
       "      <td>160.000000</td>\n",
       "    </tr>\n",
       "    <tr>\n",
       "      <th>26488</th>\n",
       "      <td>2024-03-10</td>\n",
       "      <td>Sean O'Malley</td>\n",
       "      <td>Marlon Vera</td>\n",
       "      <td>BetOnline.ag</td>\n",
       "      <td>-185</td>\n",
       "      <td>160</td>\n",
       "      <td>54.054054</td>\n",
       "      <td>160.000000</td>\n",
       "    </tr>\n",
       "    <tr>\n",
       "      <th>26489</th>\n",
       "      <td>2024-03-10</td>\n",
       "      <td>Sean O'Malley</td>\n",
       "      <td>Marlon Vera</td>\n",
       "      <td>FanDuel</td>\n",
       "      <td>-215</td>\n",
       "      <td>164</td>\n",
       "      <td>46.511628</td>\n",
       "      <td>164.000000</td>\n",
       "    </tr>\n",
       "    <tr>\n",
       "      <th>26490</th>\n",
       "      <td>2024-03-10</td>\n",
       "      <td>Sean O'Malley</td>\n",
       "      <td>Marlon Vera</td>\n",
       "      <td>Caesars</td>\n",
       "      <td>-205</td>\n",
       "      <td>170</td>\n",
       "      <td>48.780488</td>\n",
       "      <td>170.000000</td>\n",
       "    </tr>\n",
       "    <tr>\n",
       "      <th>26491</th>\n",
       "      <td>2024-03-10</td>\n",
       "      <td>Sean O'Malley</td>\n",
       "      <td>Marlon Vera</td>\n",
       "      <td>DraftKings</td>\n",
       "      <td>-198</td>\n",
       "      <td>164</td>\n",
       "      <td>50.505051</td>\n",
       "      <td>164.000000</td>\n",
       "    </tr>\n",
       "  </tbody>\n",
       "</table>\n",
       "<p>26492 rows × 8 columns</p>\n",
       "</div>"
      ],
      "text/plain": [
       "             date       fighter_a            fighter_b     bookmaker  odds_a  \\\n",
       "0      2020-12-31  Conor McGregor  Khabib Nurmagomedov        Unibet     250   \n",
       "1      2020-12-31  Conor McGregor            Nate Diaz        Unibet    -278   \n",
       "2      2020-12-31  Conor McGregor       Jorge Masvidal        Unibet     135   \n",
       "3      2020-12-31  Conor McGregor       Justin Gaethje        Unibet    -130   \n",
       "4      2020-12-31  Conor McGregor        Tony Ferguson        Unibet    -238   \n",
       "...           ...             ...                  ...           ...     ...   \n",
       "26487  2024-03-10   Sean O'Malley          Marlon Vera     LowVig.ag    -185   \n",
       "26488  2024-03-10   Sean O'Malley          Marlon Vera  BetOnline.ag    -185   \n",
       "26489  2024-03-10   Sean O'Malley          Marlon Vera       FanDuel    -215   \n",
       "26490  2024-03-10   Sean O'Malley          Marlon Vera       Caesars    -205   \n",
       "26491  2024-03-10   Sean O'Malley          Marlon Vera    DraftKings    -198   \n",
       "\n",
       "       odds_b        ev_a        ev_b  \n",
       "0        -345  250.000000   28.985507  \n",
       "1         205   35.971223  205.000000  \n",
       "2        -175  135.000000   57.142857  \n",
       "3         100   76.923077  100.000000  \n",
       "4         180   42.016807  180.000000  \n",
       "...       ...         ...         ...  \n",
       "26487     160   54.054054  160.000000  \n",
       "26488     160   54.054054  160.000000  \n",
       "26489     164   46.511628  164.000000  \n",
       "26490     170   48.780488  170.000000  \n",
       "26491     164   50.505051  164.000000  \n",
       "\n",
       "[26492 rows x 8 columns]"
      ]
     },
     "execution_count": 28,
     "metadata": {},
     "output_type": "execute_result"
    }
   ],
   "source": [
    "combined_df"
   ]
  },
  {
   "cell_type": "code",
   "execution_count": 26,
   "metadata": {},
   "outputs": [],
   "source": [
    "def calculate_ev(odds, bet_amount):\n",
    "    if odds > 0:\n",
    "        return (bet_amount / 100) * odds\n",
    "    elif odds < 0:\n",
    "        return (100 / abs(odds)) * bet_amount\n",
    "    else:\n",
    "        return 0"
   ]
  },
  {
   "cell_type": "code",
   "execution_count": 27,
   "metadata": {},
   "outputs": [],
   "source": [
    "bet_amount=100\n",
    "combined_df['ev_a'] = combined_df['odds_a'].apply(lambda x: calculate_ev(x, bet_amount))\n",
    "combined_df['ev_b'] = combined_df['odds_b'].apply(lambda x: calculate_ev(x, bet_amount))"
   ]
  },
  {
   "cell_type": "code",
   "execution_count": 25,
   "metadata": {},
   "outputs": [],
   "source": [
    "combined_df.to_csv('odds_reversed.csv', index=False)"
   ]
  }
 ],
 "metadata": {
  "kernelspec": {
   "display_name": "Python 3",
   "language": "python",
   "name": "python3"
  },
  "language_info": {
   "codemirror_mode": {
    "name": "ipython",
    "version": 3
   },
   "file_extension": ".py",
   "mimetype": "text/x-python",
   "name": "python",
   "nbconvert_exporter": "python",
   "pygments_lexer": "ipython3",
   "version": "3.11.7"
  }
 },
 "nbformat": 4,
 "nbformat_minor": 2
}
