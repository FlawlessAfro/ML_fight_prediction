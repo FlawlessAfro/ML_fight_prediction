{
 "cells": [
  {
   "cell_type": "code",
   "execution_count": 4,
   "metadata": {},
   "outputs": [],
   "source": [
    "import psycopg2\n",
    "import pandas as pd"
   ]
  },
  {
   "cell_type": "code",
   "execution_count": 2,
   "metadata": {},
   "outputs": [],
   "source": [
    "with open('connection_string.txt') as file:\n",
    "    conn_string = file.readline()"
   ]
  },
  {
   "cell_type": "code",
   "execution_count": 3,
   "metadata": {},
   "outputs": [
    {
     "name": "stdout",
     "output_type": "stream",
     "text": [
      "Connection established\n"
     ]
    }
   ],
   "source": [
    "conn = psycopg2.connect(conn_string)\n",
    "if conn.closed == 0:\n",
    "    print(\"Connection established\")"
   ]
  },
  {
   "cell_type": "code",
   "execution_count": 7,
   "metadata": {},
   "outputs": [],
   "source": [
    "df = pd.read_csv('../DF Creation/unike_fighters.csv')\n"
   ]
  },
  {
   "cell_type": "code",
   "execution_count": 12,
   "metadata": {},
   "outputs": [],
   "source": [
    "cur = conn.cursor()\n",
    "\n",
    "insert_query = \"\"\"\n",
    "    INSERT INTO fighters (fighter_id, R_fighter, count, R_age, R_avg_SIG_STR_landed, R_avg_SIG_STR_pct, R_avg_SUB_ATT, R_avg_TD_landed, R_avg_TD_pct, R_Height_cms, R_Reach_cms)\n",
    "    VALUES (%s, %s, %s, %s, %s, %s, %s, %s, %s, %s, %s);\n",
    "\"\"\"\n",
    "# Prepare a list of tuples from the DataFrame\n",
    "records_to_insert = [tuple(row) for row in df.to_numpy()]\n",
    "\n",
    "# Execute the query\n",
    "try:\n",
    "    cur.executemany(insert_query, records_to_insert)\n",
    "    conn.commit()\n",
    "except (Exception, psycopg2.DatabaseError) as error:\n",
    "    print(\"Error: %s\" % error)\n",
    "    conn.rollback()"
   ]
  }
 ],
 "metadata": {
  "kernelspec": {
   "display_name": "Python 3",
   "language": "python",
   "name": "python3"
  },
  "language_info": {
   "codemirror_mode": {
    "name": "ipython",
    "version": 3
   },
   "file_extension": ".py",
   "mimetype": "text/x-python",
   "name": "python",
   "nbconvert_exporter": "python",
   "pygments_lexer": "ipython3",
   "version": "3.11.5"
  }
 },
 "nbformat": 4,
 "nbformat_minor": 2
}
