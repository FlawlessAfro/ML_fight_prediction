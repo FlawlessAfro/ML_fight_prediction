{
 "cells": [
  {
   "cell_type": "code",
   "execution_count": 1,
   "metadata": {},
   "outputs": [],
   "source": [
    "import psycopg2\n",
    "import pandas as pd\n",
    "import numpy as np"
   ]
  },
  {
   "cell_type": "code",
   "execution_count": 2,
   "metadata": {},
   "outputs": [],
   "source": [
    "df =  pd.read_csv(r'C:\\Users\\DY\\Documents\\GitHub\\UFCproject\\CSV Files\\df_ufc_masters.csv')"
   ]
  },
  {
   "cell_type": "code",
   "execution_count": 3,
   "metadata": {},
   "outputs": [],
   "source": [
    "selected_features = [\n",
    "    'R_fighter',\n",
    "    'R_avg_SIG_STR_landed',\n",
    "    'R_avg_SIG_STR_pct',\n",
    "    'R_avg_SUB_ATT',\n",
    "    'R_avg_TD_landed',\n",
    "    'R_avg_TD_pct',\n",
    "    'R_Height_cms',\n",
    "    'R_Reach_cms',\n",
    "    'R_age'\n",
    "]"
   ]
  },
  {
   "cell_type": "code",
   "execution_count": 4,
   "metadata": {},
   "outputs": [],
   "source": [
    "df_selected = df[selected_features]"
   ]
  },
  {
   "cell_type": "code",
   "execution_count": 5,
   "metadata": {},
   "outputs": [],
   "source": [
    "fighter_counts = df_selected['R_fighter'].value_counts().rename('count')"
   ]
  },
  {
   "cell_type": "code",
   "execution_count": 6,
   "metadata": {},
   "outputs": [],
   "source": [
    "df_selected = df_selected.merge(fighter_counts, left_on='R_fighter', right_index=True)"
   ]
  },
  {
   "cell_type": "code",
   "execution_count": 7,
   "metadata": {},
   "outputs": [],
   "source": [
    "grouped_features = [\n",
    "    'R_avg_SIG_STR_landed',\n",
    "    'R_avg_SIG_STR_pct',\n",
    "    'R_avg_SUB_ATT',\n",
    "    'R_avg_TD_landed',\n",
    "    'R_avg_TD_pct'\n",
    "]\n",
    "df_grouped = df_selected.groupby('R_fighter')[grouped_features].mean()"
   ]
  },
  {
   "cell_type": "code",
   "execution_count": 8,
   "metadata": {},
   "outputs": [],
   "source": [
    "df_final = df_grouped.merge(df_selected[['R_fighter', 'count', 'R_Height_cms', 'R_Reach_cms', 'R_age']].drop_duplicates(), on='R_fighter')"
   ]
  },
  {
   "cell_type": "code",
   "execution_count": 9,
   "metadata": {},
   "outputs": [],
   "source": [
    "df_final_unique = df_final.drop_duplicates(subset='R_fighter')"
   ]
  },
  {
   "cell_type": "code",
   "execution_count": 10,
   "metadata": {},
   "outputs": [],
   "source": [
    "# Generating a unique fighter ID\n",
    "df_final_unique = df_final_unique.reset_index(drop=False)\n",
    "df_final_unique['fighter_id'] = range(1, len(df_final_unique) + 1)"
   ]
  },
  {
   "cell_type": "code",
   "execution_count": 11,
   "metadata": {},
   "outputs": [],
   "source": [
    "df_final_unique = df_final_unique.drop(['index'], axis=1)"
   ]
  },
  {
   "cell_type": "code",
   "execution_count": 12,
   "metadata": {},
   "outputs": [],
   "source": [
    "# Ensure 'fighter_id' is in the DataFrame\n",
    "if 'fighter_id' in df_final_unique.columns:\n",
    "    # Reorder columns to make 'fighter_id' the first column\n",
    "    column_order = ['fighter_id'] + [col for col in df_final_unique.columns if col != 'fighter_id']\n",
    "    df_final_unique = df_final_unique[column_order]"
   ]
  },
  {
   "cell_type": "markdown",
   "metadata": {},
   "source": [
    "LOADER INN I SQL"
   ]
  },
  {
   "cell_type": "code",
   "execution_count": 13,
   "metadata": {},
   "outputs": [],
   "source": [
    "with open('connection_string.txt') as file:\n",
    "    conn_string = file.readline()"
   ]
  },
  {
   "cell_type": "code",
   "execution_count": 14,
   "metadata": {},
   "outputs": [
    {
     "name": "stdout",
     "output_type": "stream",
     "text": [
      "Connection established\n"
     ]
    }
   ],
   "source": [
    "conn = psycopg2.connect(conn_string)\n",
    "if conn.closed == 0:\n",
    "    print(\"Connection established\")"
   ]
  },
  {
   "cell_type": "code",
   "execution_count": 16,
   "metadata": {},
   "outputs": [
    {
     "data": {
      "text/plain": [
       "Index(['fighter_id', 'R_fighter', 'R_avg_SIG_STR_landed', 'R_avg_SIG_STR_pct',\n",
       "       'R_avg_SUB_ATT', 'R_avg_TD_landed', 'R_avg_TD_pct', 'count',\n",
       "       'R_Height_cms', 'R_Reach_cms', 'R_age'],\n",
       "      dtype='object')"
      ]
     },
     "execution_count": 16,
     "metadata": {},
     "output_type": "execute_result"
    }
   ],
   "source": [
    "df_final_unique.columns"
   ]
  },
  {
   "cell_type": "code",
   "execution_count": 17,
   "metadata": {},
   "outputs": [],
   "source": [
    "cur = conn.cursor()\n",
    "\n",
    "insert_query = \"\"\"\n",
    "    INSERT INTO fighters (fighter_id, R_fighter, R_avg_SIG_STR_landed, R_avg_SIG_STR_pct, R_avg_SUB_ATT, R_avg_TD_landed, R_avg_TD_pct, count, R_Height_cms, R_Reach_cms, R_age)\n",
    "    VALUES (%s, %s, %s, %s, %s, %s, %s, %s, %s, %s, %s);\n",
    "\"\"\"\n",
    "# Prepare a list of tuples from the DataFrame\n",
    "records_to_insert = [tuple(row) for row in df_final_unique.to_numpy()]\n",
    "\n",
    "# Execute the query\n",
    "try:\n",
    "    cur.executemany(insert_query, records_to_insert)\n",
    "    conn.commit()\n",
    "except (Exception, psycopg2.DatabaseError) as error:\n",
    "    print(\"Error: %s\" % error)\n",
    "    conn.rollback()"
   ]
  }
 ],
 "metadata": {
  "kernelspec": {
   "display_name": "Python 3",
   "language": "python",
   "name": "python3"
  },
  "language_info": {
   "codemirror_mode": {
    "name": "ipython",
    "version": 3
   },
   "file_extension": ".py",
   "mimetype": "text/x-python",
   "name": "python",
   "nbconvert_exporter": "python",
   "pygments_lexer": "ipython3",
   "version": "3.11.5"
  }
 },
 "nbformat": 4,
 "nbformat_minor": 2
}
