{
 "cells": [
  {
   "cell_type": "code",
   "execution_count": 1,
   "metadata": {},
   "outputs": [],
   "source": [
    "import json\n",
    "import pandas as pd\n",
    "from datetime import timedelta"
   ]
  },
  {
   "cell_type": "code",
   "execution_count": 2,
   "metadata": {},
   "outputs": [],
   "source": [
    "with open(r'C:\\Users\\DY\\Documents\\GitHub\\UFCproject\\ODDS API\\unique_fighter_odds.json', 'r') as file:\n",
    "    data = json.load(file)\n",
    "df = pd.DataFrame(data)"
   ]
  },
  {
   "cell_type": "code",
   "execution_count": 3,
   "metadata": {},
   "outputs": [],
   "source": [
    "# Assuming 'df' is your DataFrame and 'date' is the column with the dates\n",
    "# Convert the 'date' column to datetime in the original DataFrame\n",
    "df['date'] = pd.to_datetime(df['date'])\n",
    "\n",
    "# Create a copy of the DataFrame for modification\n",
    "df_modified = df.copy()\n",
    "\n",
    "# Subtract one day in the copied DataFrame\n",
    "df_modified['date'] = df_modified['date'] - timedelta(days=1)\n",
    "\n",
    "# Concatenate the original and modified DataFrames\n",
    "df_combined = pd.concat([df, df_modified])\n",
    "\n",
    "# Sort the DataFrame if needed (optional)\n",
    "df_combined = df_combined.sort_values(by='date')"
   ]
  },
  {
   "cell_type": "code",
   "execution_count": 4,
   "metadata": {},
   "outputs": [],
   "source": [
    "df_combined['date'] = pd.to_datetime(df_combined['date'])\n",
    "\n",
    "# Convert back to the desired string format (YYYY-MM-DD)\n",
    "df_combined['date'] = df_combined['date'].dt.strftime('%Y-%m-%d')"
   ]
  }
 ],
 "metadata": {
  "kernelspec": {
   "display_name": "Python 3",
   "language": "python",
   "name": "python3"
  },
  "language_info": {
   "codemirror_mode": {
    "name": "ipython",
    "version": 3
   },
   "file_extension": ".py",
   "mimetype": "text/x-python",
   "name": "python",
   "nbconvert_exporter": "python",
   "pygments_lexer": "ipython3",
   "version": "3.11.5"
  }
 },
 "nbformat": 4,
 "nbformat_minor": 2
}
