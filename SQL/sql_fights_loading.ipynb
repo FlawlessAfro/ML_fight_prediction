{
 "cells": [
  {
   "cell_type": "code",
   "execution_count": 1,
   "metadata": {},
   "outputs": [],
   "source": [
    "import json\n",
    "import pandas as pd\n",
    "from datetime import timedelta\n",
    "import psycopg2\n"
   ]
  },
  {
   "cell_type": "code",
   "execution_count": 2,
   "metadata": {},
   "outputs": [],
   "source": [
    "file_path = r'C:\\Users\\DY\\Documents\\GitHub\\UFCproject\\bronze\\ufc-master.csv'\n",
    "\n",
    "df = pd.read_csv(file_path)"
   ]
  },
  {
   "cell_type": "code",
   "execution_count": 3,
   "metadata": {},
   "outputs": [
    {
     "data": {
      "text/plain": [
       "Index(['R_fighter', 'B_fighter', 'R_odds', 'B_odds', 'R_ev', 'B_ev', 'date',\n",
       "       'location', 'country', 'Winner',\n",
       "       ...\n",
       "       'finish_details', 'finish_round', 'finish_round_time',\n",
       "       'total_fight_time_secs', 'r_dec_odds', 'b_dec_odds', 'r_sub_odds',\n",
       "       'b_sub_odds', 'r_ko_odds', 'b_ko_odds'],\n",
       "      dtype='object', length=119)"
      ]
     },
     "execution_count": 3,
     "metadata": {},
     "output_type": "execute_result"
    }
   ],
   "source": [
    "df.columns"
   ]
  },
  {
   "cell_type": "code",
   "execution_count": 4,
   "metadata": {},
   "outputs": [],
   "source": [
    "columns_to_drop = ['B_win_by_KO/TKO', 'R_win_by_KO/TKO']\n",
    "\n",
    "df = df.drop(columns=columns_to_drop)"
   ]
  },
  {
   "cell_type": "code",
   "execution_count": 5,
   "metadata": {},
   "outputs": [
    {
     "name": "stdout",
     "output_type": "stream",
     "text": [
      "['B_match_weightclass_rank', 'R_match_weightclass_rank', \"R_Women's Flyweight_rank\", \"R_Women's Featherweight_rank\", \"R_Women's Strawweight_rank\", \"R_Women's Bantamweight_rank\", 'R_Heavyweight_rank', 'R_Light Heavyweight_rank', 'R_Middleweight_rank', 'R_Welterweight_rank', 'R_Lightweight_rank', 'R_Featherweight_rank', 'R_Bantamweight_rank', 'R_Flyweight_rank', 'R_Pound-for-Pound_rank', \"B_Women's Flyweight_rank\", \"B_Women's Featherweight_rank\", \"B_Women's Strawweight_rank\", \"B_Women's Bantamweight_rank\", 'B_Heavyweight_rank', 'B_Light Heavyweight_rank', 'B_Middleweight_rank', 'B_Welterweight_rank', 'B_Lightweight_rank', 'B_Featherweight_rank', 'B_Bantamweight_rank', 'B_Flyweight_rank', 'B_Pound-for-Pound_rank', 'better_rank']\n"
     ]
    }
   ],
   "source": [
    "columns_to_drop = []\n",
    "for column in df.columns:\n",
    "    if 'rank' in column:\n",
    "        columns_to_drop.append(column)\n",
    "\n",
    "print(columns_to_drop)"
   ]
  },
  {
   "cell_type": "code",
   "execution_count": 6,
   "metadata": {},
   "outputs": [],
   "source": [
    "df.drop(columns=columns_to_drop, inplace=True)"
   ]
  },
  {
   "cell_type": "code",
   "execution_count": 7,
   "metadata": {},
   "outputs": [
    {
     "name": "stdout",
     "output_type": "stream",
     "text": [
      "['R_fighter', 'B_fighter', 'R_odds', 'B_odds', 'R_ev', 'B_ev', 'date', 'location', 'country', 'Winner', 'title_bout', 'weight_class', 'gender', 'no_of_rounds', 'B_current_lose_streak', 'B_current_win_streak', 'B_draw', 'B_avg_SIG_STR_landed', 'B_avg_SIG_STR_pct', 'B_avg_SUB_ATT', 'B_avg_TD_landed', 'B_avg_TD_pct', 'B_longest_win_streak', 'B_losses', 'B_total_rounds_fought', 'B_total_title_bouts', 'B_win_by_Decision_Majority', 'B_win_by_Decision_Split', 'B_win_by_Decision_Unanimous', 'B_win_by_Submission', 'B_win_by_TKO_Doctor_Stoppage', 'B_wins', 'B_Stance', 'B_Height_cms', 'B_Reach_cms', 'B_Weight_lbs', 'R_current_lose_streak', 'R_current_win_streak', 'R_draw', 'R_avg_SIG_STR_landed', 'R_avg_SIG_STR_pct', 'R_avg_SUB_ATT', 'R_avg_TD_landed', 'R_avg_TD_pct', 'R_longest_win_streak', 'R_losses', 'R_total_rounds_fought', 'R_total_title_bouts', 'R_win_by_Decision_Majority', 'R_win_by_Decision_Split', 'R_win_by_Decision_Unanimous', 'R_win_by_Submission', 'R_win_by_TKO_Doctor_Stoppage', 'R_wins', 'R_Stance', 'R_Height_cms', 'R_Reach_cms', 'R_Weight_lbs', 'R_age', 'B_age', 'lose_streak_dif', 'win_streak_dif', 'longest_win_streak_dif', 'win_dif', 'loss_dif', 'total_round_dif', 'total_title_bout_dif', 'ko_dif', 'sub_dif', 'height_dif', 'reach_dif', 'age_dif', 'sig_str_dif', 'avg_sub_att_dif', 'avg_td_dif', 'empty_arena', 'constant_1', 'finish', 'finish_details', 'finish_round', 'finish_round_time', 'total_fight_time_secs', 'r_dec_odds', 'b_dec_odds', 'r_sub_odds', 'b_sub_odds', 'r_ko_odds', 'b_ko_odds']\n"
     ]
    }
   ],
   "source": [
    "existing_columns = []\n",
    "for column in df.columns:\n",
    "    existing_columns.append(column)\n",
    "\n",
    "\n",
    "        \n",
    "\n",
    "print(existing_columns)"
   ]
  },
  {
   "cell_type": "code",
   "execution_count": 8,
   "metadata": {},
   "outputs": [],
   "source": [
    "with open('connection_string.txt') as file:\n",
    "    conn_string = file.readline()"
   ]
  },
  {
   "cell_type": "code",
   "execution_count": 9,
   "metadata": {},
   "outputs": [
    {
     "name": "stdout",
     "output_type": "stream",
     "text": [
      "Connection established\n"
     ]
    }
   ],
   "source": [
    "conn = psycopg2.connect(conn_string)\n",
    "if conn.closed == 0:\n",
    "    print(\"Connection established\")"
   ]
  },
  {
   "cell_type": "code",
   "execution_count": 11,
   "metadata": {},
   "outputs": [],
   "source": [
    "cur = conn.cursor()\n",
    "\n",
    "for index, row in df.iterrows():\n",
    "    # Convert row to tuple, handling NaN values appropriately\n",
    "    record_to_insert = tuple([None if pd.isna(x) else x for x in row])\n",
    "\n",
    "    try:\n",
    "        cur.execute(insert_query, record_to_insert)\n",
    "    except (Exception, psycopg2.DatabaseError) as error:\n",
    "        print(f\"Error inserting row {index}: {error}\")\n",
    "        break  # Stop the loop to inspect the problematic row\n",
    "\n",
    "conn.commit()\n",
    "cur.close()"
   ]
  },
  {
   "cell_type": "code",
   "execution_count": 10,
   "metadata": {},
   "outputs": [
    {
     "name": "stdout",
     "output_type": "stream",
     "text": [
      "Error: integer out of range\n",
      "\n"
     ]
    }
   ],
   "source": [
    "cur = conn.cursor()\n",
    "\n",
    "column_count = len(df.columns)\n",
    "placeholders = ', '.join(['%s'] * column_count)\n",
    "\n",
    "insert_query = f\"\"\"\n",
    "    INSERT INTO mma_fights (R_fighter, B_fighter, R_odds, B_odds, R_ev, B_ev, date, location, country, Winner, title_bout, weight_class, gender, no_of_rounds, B_current_lose_streak, B_current_win_streak, B_draw, B_avg_SIG_STR_landed, B_avg_SIG_STR_pct, B_avg_SUB_ATT, B_avg_TD_landed, B_avg_TD_pct, B_longest_win_streak, B_losses, B_total_rounds_fought, B_total_title_bouts, B_win_by_Decision_Majority, B_win_by_Decision_Split, B_win_by_Decision_Unanimous, B_win_by_Submission, B_win_by_TKO_Doctor_Stoppage, B_wins, B_Stance, B_Height_cms, B_Reach_cms, B_Weight_lbs, R_current_lose_streak, R_current_win_streak, R_draw, R_avg_SIG_STR_landed, R_avg_SIG_STR_pct, R_avg_SUB_ATT, R_avg_TD_landed, R_avg_TD_pct, R_longest_win_streak, R_losses, R_total_rounds_fought, R_total_title_bouts, R_win_by_Decision_Majority, R_win_by_Decision_Split, R_win_by_Decision_Unanimous, R_win_by_Submission, R_win_by_TKO_Doctor_Stoppage, R_wins, R_Stance, R_Height_cms, R_Reach_cms, R_Weight_lbs, R_age, B_age, lose_streak_dif, win_streak_dif, longest_win_streak_dif, win_dif, loss_dif, total_round_dif, total_title_bout_dif, ko_dif, sub_dif, height_dif, reach_dif, age_dif, sig_str_dif, avg_sub_att_dif, avg_td_dif, empty_arena, constant_1, finish, finish_details, finish_round, finish_round_time, total_fight_time_secs, r_dec_odds, b_dec_odds, r_sub_odds, b_sub_odds, r_ko_odds, b_ko_odds)\n",
    "    VALUES ({placeholders});\n",
    "\"\"\"\n",
    "# Prepare a list of tuples from the DataFrame\n",
    "records_to_insert = [tuple(row) for row in df.to_numpy()]\n",
    "\n",
    "# Execute the query\n",
    "try:\n",
    "    cur.executemany(insert_query, records_to_insert)\n",
    "    conn.commit()\n",
    "except (Exception, psycopg2.DatabaseError) as error:\n",
    "    print(\"Error: %s\" % error)\n",
    "    conn.rollback()"
   ]
  }
 ],
 "metadata": {
  "kernelspec": {
   "display_name": "Python 3",
   "language": "python",
   "name": "python3"
  },
  "language_info": {
   "codemirror_mode": {
    "name": "ipython",
    "version": 3
   },
   "file_extension": ".py",
   "mimetype": "text/x-python",
   "name": "python",
   "nbconvert_exporter": "python",
   "pygments_lexer": "ipython3",
   "version": "3.11.5"
  }
 },
 "nbformat": 4,
 "nbformat_minor": 2
}
