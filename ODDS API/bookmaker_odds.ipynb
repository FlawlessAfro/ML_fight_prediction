{
 "cells": [
  {
   "cell_type": "code",
   "execution_count": 18,
   "metadata": {},
   "outputs": [],
   "source": [
    "import requests\n",
    "import json"
   ]
  },
  {
   "cell_type": "code",
   "execution_count": 6,
   "metadata": {},
   "outputs": [],
   "source": [
    "api_key = '70d0f178e06c804f15f9b296878a8a73'\n",
    "sport = 'mma_mixed_martial_arts'\n",
    "region = 'us'"
   ]
  },
  {
   "cell_type": "code",
   "execution_count": 8,
   "metadata": {},
   "outputs": [],
   "source": [
    "url = f\"https://api.the-odds-api.com/v4/historical/sports/{sport}/odds/?apiKey={api_key}&regions={region}&markets=h2h&oddsFormat=american&date=2020-10-18T12:00:00Z\""
   ]
  },
  {
   "cell_type": "code",
   "execution_count": 19,
   "metadata": {},
   "outputs": [
    {
     "name": "stdout",
     "output_type": "stream",
     "text": [
      "Data saved to data.json\n"
     ]
    }
   ],
   "source": [
    "response = requests.get(url)  # or use params=params if needed\n",
    "\n",
    "# Check if the request was successful\n",
    "if response.status_code == 200:\n",
    "    # Parse the response data\n",
    "    data = response.json()\n",
    "\n",
    "    filename = 'data.json'\n",
    "\n",
    "    # Write the JSON data to a file\n",
    "    with open(filename, 'w') as file:\n",
    "        json.dump(data, file, indent=4)\n",
    "\n",
    "    print(f\"Data saved to {filename}\")\n",
    "else:\n",
    "    print(f\"Failed to retrieve data: {response.status_code}\")"
   ]
  },
  {
   "cell_type": "code",
   "execution_count": 17,
   "metadata": {},
   "outputs": [
    {
     "data": {
      "text/plain": [
       "[{'key': 'unibet',\n",
       "  'title': 'Unibet',\n",
       "  'last_update': '2020-10-18T11:44:04Z',\n",
       "  'markets': [{'key': 'h2h',\n",
       "    'last_update': '2020-10-18T11:44:04Z',\n",
       "    'outcomes': [{'name': 'Conor McGregor', 'price': 250},\n",
       "     {'name': 'Khabib Nurmagomedov', 'price': -345}]}]}]"
      ]
     },
     "execution_count": 17,
     "metadata": {},
     "output_type": "execute_result"
    }
   ],
   "source": [
    "data['data'][0]['bookmakers']"
   ]
  }
 ],
 "metadata": {
  "kernelspec": {
   "display_name": "Python 3",
   "language": "python",
   "name": "python3"
  },
  "language_info": {
   "codemirror_mode": {
    "name": "ipython",
    "version": 3
   },
   "file_extension": ".py",
   "mimetype": "text/x-python",
   "name": "python",
   "nbconvert_exporter": "python",
   "pygments_lexer": "ipython3",
   "version": "3.11.5"
  }
 },
 "nbformat": 4,
 "nbformat_minor": 2
}
