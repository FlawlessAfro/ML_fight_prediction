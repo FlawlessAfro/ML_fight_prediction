{
 "cells": [
  {
   "cell_type": "code",
   "execution_count": 1,
   "metadata": {},
   "outputs": [],
   "source": [
    "import pandas as pd\n",
    "import joblib\n",
    "from sklearn.preprocessing import StandardScaler\n",
    "import numpy as np"
   ]
  },
  {
   "cell_type": "code",
   "execution_count": 2,
   "metadata": {},
   "outputs": [],
   "source": [
    "svm_model = joblib.load('svm_model.pkl')"
   ]
  },
  {
   "cell_type": "code",
   "execution_count": 3,
   "metadata": {},
   "outputs": [],
   "source": [
    "# Load the fighter stats\n",
    "fighters_df = pd.read_csv(r'C:\\Users\\DY\\Documents\\GitHub\\UFCproject\\DF Creation\\unike_fighters.csv')"
   ]
  },
  {
   "cell_type": "code",
   "execution_count": 4,
   "metadata": {},
   "outputs": [],
   "source": [
    "def predict_victory(fighter1, fighter2):\n",
    "    # Ensure the fighters are in the DataFrame\n",
    "    if fighter1 not in fighters_df['R_fighter'].values or fighter2 not in fighters_df['R_fighter'].values:\n",
    "        return \"One or both fighters not found in the dataset.\"\n",
    "\n",
    "    # Retrieve fighters' stats\n",
    "    fighter1_stats = fighters_df[fighters_df['R_fighter'] == fighter1].iloc[0]\n",
    "    fighter2_stats = fighters_df[fighters_df['R_fighter'] == fighter2].iloc[0]\n",
    "\n",
    "    # Select features (using the red corner features for both fighters)\n",
    "    red_corner_features = ['R_age', 'R_avg_SIG_STR_landed', 'R_avg_SIG_STR_pct', 'R_avg_SUB_ATT', \n",
    "                           'R_avg_TD_landed', 'R_avg_TD_pct', 'R_Height_cms', 'R_Reach_cms']\n",
    "\n",
    "    fighter1_features = fighter1_stats[red_corner_features].values.reshape(1, -1)\n",
    "    fighter2_features = fighter2_stats[red_corner_features].values.reshape(1, -1)\n",
    "\n",
    "\n",
    "    # Combine features\n",
    "    combined_features = np.hstack((fighter1_features, fighter2_features))\n",
    "\n",
    "    # Scale features (if your model expects scaled features)\n",
    "    #scaler = StandardScaler()\n",
    "    #combined_features_scaled = scaler.fit_transform(combined_features)\n",
    "\n",
    "    # Predict probability\n",
    "    probability = svm_model.predict_proba(combined_features)\n",
    "\n",
    "    return probability\n"
   ]
  },
  {
   "cell_type": "code",
   "execution_count": 5,
   "metadata": {},
   "outputs": [
    {
     "name": "stdout",
     "output_type": "stream",
     "text": [
      "[[0.36796846 0.63203154]]\n"
     ]
    },
    {
     "name": "stderr",
     "output_type": "stream",
     "text": [
      "C:\\Users\\DY\\AppData\\Roaming\\Python\\Python311\\site-packages\\sklearn\\base.py:465: UserWarning: X does not have valid feature names, but SVC was fitted with feature names\n",
      "  warnings.warn(\n"
     ]
    }
   ],
   "source": [
    "print(predict_victory('Jon Jones', 'Francis Ngannou'))"
   ]
  }
 ],
 "metadata": {
  "kernelspec": {
   "display_name": "Python 3",
   "language": "python",
   "name": "python3"
  },
  "language_info": {
   "codemirror_mode": {
    "name": "ipython",
    "version": 3
   },
   "file_extension": ".py",
   "mimetype": "text/x-python",
   "name": "python",
   "nbconvert_exporter": "python",
   "pygments_lexer": "ipython3",
   "version": "3.11.5"
  }
 },
 "nbformat": 4,
 "nbformat_minor": 2
}
