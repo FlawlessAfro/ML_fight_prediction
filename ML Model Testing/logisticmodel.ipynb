{
 "cells": [
  {
   "cell_type": "markdown",
   "metadata": {},
   "source": [
    "Logistic model for outcome of fight"
   ]
  },
  {
   "cell_type": "code",
   "execution_count": 628,
   "metadata": {},
   "outputs": [],
   "source": [
    "import pandas as pd\n",
    "import numpy as np\n",
    "from sklearn.linear_model import LinearRegression\n",
    "from sklearn.linear_model import LogisticRegression\n",
    "from sklearn.metrics import mean_absolute_error, mean_squared_error, r2_score\n",
    "from sklearn.model_selection import train_test_split\n",
    "#import matplotlib.pyplot as plt\n",
    "from sklearn.preprocessing import StandardScaler, MinMaxScaler\n",
    "#from sklearn.impute import SimpleImputer\n",
    "#from sklearn.preprocessing import OrdinalEncoder, OneHotEncoder\n",
    "from sklearn.metrics import accuracy_score, confusion_matrix, ConfusionMatrixDisplay, classification_report\n",
    "import matplotlib.pyplot as plt"
   ]
  },
  {
   "cell_type": "code",
   "execution_count": 629,
   "metadata": {},
   "outputs": [],
   "source": [
    "df = pd.read_csv('../CSV Files/df_ufc_masters_w_reversed.csv')"
   ]
  },
  {
   "cell_type": "code",
   "execution_count": 630,
   "metadata": {},
   "outputs": [
    {
     "data": {
      "text/html": [
       "<div>\n",
       "<style scoped>\n",
       "    .dataframe tbody tr th:only-of-type {\n",
       "        vertical-align: middle;\n",
       "    }\n",
       "\n",
       "    .dataframe tbody tr th {\n",
       "        vertical-align: top;\n",
       "    }\n",
       "\n",
       "    .dataframe thead th {\n",
       "        text-align: right;\n",
       "    }\n",
       "</style>\n",
       "<table border=\"1\" class=\"dataframe\">\n",
       "  <thead>\n",
       "    <tr style=\"text-align: right;\">\n",
       "      <th></th>\n",
       "      <th>B_fighter</th>\n",
       "      <th>B_odds</th>\n",
       "      <th>B_ev</th>\n",
       "      <th>B_current_lose_streak</th>\n",
       "      <th>B_current_win_streak</th>\n",
       "      <th>B_draw</th>\n",
       "      <th>B_avg_SIG_STR_landed</th>\n",
       "      <th>B_avg_SIG_STR_pct</th>\n",
       "      <th>B_avg_SUB_ATT</th>\n",
       "      <th>B_avg_TD_landed</th>\n",
       "      <th>...</th>\n",
       "      <th>B_Height_cms</th>\n",
       "      <th>B_Reach_cms</th>\n",
       "      <th>B_Weight_lbs</th>\n",
       "      <th>B_age</th>\n",
       "      <th>B_match_weightclass_rank</th>\n",
       "      <th>B_Pound-for-Pound_rank</th>\n",
       "      <th>B_Stance_Open Stance</th>\n",
       "      <th>B_Stance_Orthodox</th>\n",
       "      <th>B_Stance_Southpaw</th>\n",
       "      <th>B_Stance_Switch</th>\n",
       "    </tr>\n",
       "  </thead>\n",
       "  <tbody>\n",
       "    <tr>\n",
       "      <th>0</th>\n",
       "      <td>Johnny Walker</td>\n",
       "      <td>0.434783</td>\n",
       "      <td>130.000000</td>\n",
       "      <td>0</td>\n",
       "      <td>1</td>\n",
       "      <td>0</td>\n",
       "      <td>3.420000</td>\n",
       "      <td>0.590000</td>\n",
       "      <td>0.700000</td>\n",
       "      <td>0.240000</td>\n",
       "      <td>...</td>\n",
       "      <td>198.12</td>\n",
       "      <td>208.28</td>\n",
       "      <td>205</td>\n",
       "      <td>29</td>\n",
       "      <td>10.0</td>\n",
       "      <td>NaN</td>\n",
       "      <td>0.0</td>\n",
       "      <td>1.0</td>\n",
       "      <td>0.0</td>\n",
       "      <td>0.0</td>\n",
       "    </tr>\n",
       "    <tr>\n",
       "      <th>1</th>\n",
       "      <td>Niko Price</td>\n",
       "      <td>0.666667</td>\n",
       "      <td>50.000000</td>\n",
       "      <td>2</td>\n",
       "      <td>0</td>\n",
       "      <td>0</td>\n",
       "      <td>5.160000</td>\n",
       "      <td>0.420000</td>\n",
       "      <td>0.800000</td>\n",
       "      <td>0.790000</td>\n",
       "      <td>...</td>\n",
       "      <td>182.88</td>\n",
       "      <td>193.04</td>\n",
       "      <td>170</td>\n",
       "      <td>32</td>\n",
       "      <td>NaN</td>\n",
       "      <td>NaN</td>\n",
       "      <td>0.0</td>\n",
       "      <td>1.0</td>\n",
       "      <td>0.0</td>\n",
       "      <td>0.0</td>\n",
       "    </tr>\n",
       "    <tr>\n",
       "      <th>2</th>\n",
       "      <td>Krzysztof Jotko</td>\n",
       "      <td>0.565217</td>\n",
       "      <td>76.923077</td>\n",
       "      <td>1</td>\n",
       "      <td>0</td>\n",
       "      <td>0</td>\n",
       "      <td>2.920000</td>\n",
       "      <td>0.410000</td>\n",
       "      <td>0.100000</td>\n",
       "      <td>1.150000</td>\n",
       "      <td>...</td>\n",
       "      <td>185.42</td>\n",
       "      <td>195.58</td>\n",
       "      <td>185</td>\n",
       "      <td>32</td>\n",
       "      <td>NaN</td>\n",
       "      <td>NaN</td>\n",
       "      <td>0.0</td>\n",
       "      <td>0.0</td>\n",
       "      <td>1.0</td>\n",
       "      <td>0.0</td>\n",
       "    </tr>\n",
       "    <tr>\n",
       "      <th>3</th>\n",
       "      <td>Mike Breeden</td>\n",
       "      <td>0.173913</td>\n",
       "      <td>475.000000</td>\n",
       "      <td>1</td>\n",
       "      <td>0</td>\n",
       "      <td>0</td>\n",
       "      <td>4.040000</td>\n",
       "      <td>0.340000</td>\n",
       "      <td>0.000000</td>\n",
       "      <td>0.000000</td>\n",
       "      <td>...</td>\n",
       "      <td>177.80</td>\n",
       "      <td>177.80</td>\n",
       "      <td>155</td>\n",
       "      <td>32</td>\n",
       "      <td>NaN</td>\n",
       "      <td>NaN</td>\n",
       "      <td>0.0</td>\n",
       "      <td>1.0</td>\n",
       "      <td>0.0</td>\n",
       "      <td>0.0</td>\n",
       "    </tr>\n",
       "    <tr>\n",
       "      <th>4</th>\n",
       "      <td>Jared Gordon</td>\n",
       "      <td>0.465116</td>\n",
       "      <td>115.000000</td>\n",
       "      <td>0</td>\n",
       "      <td>2</td>\n",
       "      <td>0</td>\n",
       "      <td>5.220000</td>\n",
       "      <td>0.560000</td>\n",
       "      <td>0.000000</td>\n",
       "      <td>2.540000</td>\n",
       "      <td>...</td>\n",
       "      <td>175.26</td>\n",
       "      <td>172.72</td>\n",
       "      <td>145</td>\n",
       "      <td>33</td>\n",
       "      <td>NaN</td>\n",
       "      <td>NaN</td>\n",
       "      <td>0.0</td>\n",
       "      <td>1.0</td>\n",
       "      <td>0.0</td>\n",
       "      <td>0.0</td>\n",
       "    </tr>\n",
       "    <tr>\n",
       "      <th>...</th>\n",
       "      <td>...</td>\n",
       "      <td>...</td>\n",
       "      <td>...</td>\n",
       "      <td>...</td>\n",
       "      <td>...</td>\n",
       "      <td>...</td>\n",
       "      <td>...</td>\n",
       "      <td>...</td>\n",
       "      <td>...</td>\n",
       "      <td>...</td>\n",
       "      <td>...</td>\n",
       "      <td>...</td>\n",
       "      <td>...</td>\n",
       "      <td>...</td>\n",
       "      <td>...</td>\n",
       "      <td>...</td>\n",
       "      <td>...</td>\n",
       "      <td>...</td>\n",
       "      <td>...</td>\n",
       "      <td>...</td>\n",
       "      <td>...</td>\n",
       "    </tr>\n",
       "    <tr>\n",
       "      <th>9783</th>\n",
       "      <td>Duane Ludwig</td>\n",
       "      <td>0.607843</td>\n",
       "      <td>64.516129</td>\n",
       "      <td>1</td>\n",
       "      <td>0</td>\n",
       "      <td>0</td>\n",
       "      <td>13.666667</td>\n",
       "      <td>0.576667</td>\n",
       "      <td>0.000000</td>\n",
       "      <td>0.000000</td>\n",
       "      <td>...</td>\n",
       "      <td>177.80</td>\n",
       "      <td>177.80</td>\n",
       "      <td>170</td>\n",
       "      <td>31</td>\n",
       "      <td>NaN</td>\n",
       "      <td>NaN</td>\n",
       "      <td>0.0</td>\n",
       "      <td>1.0</td>\n",
       "      <td>0.0</td>\n",
       "      <td>0.0</td>\n",
       "    </tr>\n",
       "    <tr>\n",
       "      <th>9784</th>\n",
       "      <td>John Howard</td>\n",
       "      <td>0.677419</td>\n",
       "      <td>47.619048</td>\n",
       "      <td>0</td>\n",
       "      <td>3</td>\n",
       "      <td>0</td>\n",
       "      <td>18.000000</td>\n",
       "      <td>0.550000</td>\n",
       "      <td>1.000000</td>\n",
       "      <td>4.666667</td>\n",
       "      <td>...</td>\n",
       "      <td>170.18</td>\n",
       "      <td>180.34</td>\n",
       "      <td>170</td>\n",
       "      <td>27</td>\n",
       "      <td>NaN</td>\n",
       "      <td>NaN</td>\n",
       "      <td>0.0</td>\n",
       "      <td>1.0</td>\n",
       "      <td>0.0</td>\n",
       "      <td>0.0</td>\n",
       "    </tr>\n",
       "    <tr>\n",
       "      <th>9785</th>\n",
       "      <td>Brendan Schaub</td>\n",
       "      <td>0.722222</td>\n",
       "      <td>38.461538</td>\n",
       "      <td>1</td>\n",
       "      <td>0</td>\n",
       "      <td>0</td>\n",
       "      <td>12.000000</td>\n",
       "      <td>0.250000</td>\n",
       "      <td>0.000000</td>\n",
       "      <td>0.000000</td>\n",
       "      <td>...</td>\n",
       "      <td>193.04</td>\n",
       "      <td>198.12</td>\n",
       "      <td>245</td>\n",
       "      <td>27</td>\n",
       "      <td>NaN</td>\n",
       "      <td>NaN</td>\n",
       "      <td>0.0</td>\n",
       "      <td>1.0</td>\n",
       "      <td>0.0</td>\n",
       "      <td>0.0</td>\n",
       "    </tr>\n",
       "    <tr>\n",
       "      <th>9786</th>\n",
       "      <td>Mike Pierce</td>\n",
       "      <td>0.807692</td>\n",
       "      <td>23.809524</td>\n",
       "      <td>1</td>\n",
       "      <td>0</td>\n",
       "      <td>0</td>\n",
       "      <td>40.500000</td>\n",
       "      <td>0.405000</td>\n",
       "      <td>0.000000</td>\n",
       "      <td>3.500000</td>\n",
       "      <td>...</td>\n",
       "      <td>172.72</td>\n",
       "      <td>177.80</td>\n",
       "      <td>170</td>\n",
       "      <td>29</td>\n",
       "      <td>NaN</td>\n",
       "      <td>NaN</td>\n",
       "      <td>0.0</td>\n",
       "      <td>1.0</td>\n",
       "      <td>0.0</td>\n",
       "      <td>0.0</td>\n",
       "    </tr>\n",
       "    <tr>\n",
       "      <th>9787</th>\n",
       "      <td>Eric Schafer</td>\n",
       "      <td>0.416667</td>\n",
       "      <td>140.000000</td>\n",
       "      <td>1</td>\n",
       "      <td>0</td>\n",
       "      <td>0</td>\n",
       "      <td>15.666667</td>\n",
       "      <td>0.588333</td>\n",
       "      <td>1.333333</td>\n",
       "      <td>0.833333</td>\n",
       "      <td>...</td>\n",
       "      <td>190.50</td>\n",
       "      <td>190.50</td>\n",
       "      <td>185</td>\n",
       "      <td>32</td>\n",
       "      <td>NaN</td>\n",
       "      <td>NaN</td>\n",
       "      <td>0.0</td>\n",
       "      <td>1.0</td>\n",
       "      <td>0.0</td>\n",
       "      <td>0.0</td>\n",
       "    </tr>\n",
       "  </tbody>\n",
       "</table>\n",
       "<p>9788 rows × 33 columns</p>\n",
       "</div>"
      ],
      "text/plain": [
       "            B_fighter    B_odds        B_ev  B_current_lose_streak  \\\n",
       "0       Johnny Walker  0.434783  130.000000                      0   \n",
       "1          Niko Price  0.666667   50.000000                      2   \n",
       "2     Krzysztof Jotko  0.565217   76.923077                      1   \n",
       "3        Mike Breeden  0.173913  475.000000                      1   \n",
       "4        Jared Gordon  0.465116  115.000000                      0   \n",
       "...               ...       ...         ...                    ...   \n",
       "9783     Duane Ludwig  0.607843   64.516129                      1   \n",
       "9784      John Howard  0.677419   47.619048                      0   \n",
       "9785   Brendan Schaub  0.722222   38.461538                      1   \n",
       "9786      Mike Pierce  0.807692   23.809524                      1   \n",
       "9787     Eric Schafer  0.416667  140.000000                      1   \n",
       "\n",
       "      B_current_win_streak  B_draw  B_avg_SIG_STR_landed  B_avg_SIG_STR_pct  \\\n",
       "0                        1       0              3.420000           0.590000   \n",
       "1                        0       0              5.160000           0.420000   \n",
       "2                        0       0              2.920000           0.410000   \n",
       "3                        0       0              4.040000           0.340000   \n",
       "4                        2       0              5.220000           0.560000   \n",
       "...                    ...     ...                   ...                ...   \n",
       "9783                     0       0             13.666667           0.576667   \n",
       "9784                     3       0             18.000000           0.550000   \n",
       "9785                     0       0             12.000000           0.250000   \n",
       "9786                     0       0             40.500000           0.405000   \n",
       "9787                     0       0             15.666667           0.588333   \n",
       "\n",
       "      B_avg_SUB_ATT  B_avg_TD_landed  ...  B_Height_cms  B_Reach_cms  \\\n",
       "0          0.700000         0.240000  ...        198.12       208.28   \n",
       "1          0.800000         0.790000  ...        182.88       193.04   \n",
       "2          0.100000         1.150000  ...        185.42       195.58   \n",
       "3          0.000000         0.000000  ...        177.80       177.80   \n",
       "4          0.000000         2.540000  ...        175.26       172.72   \n",
       "...             ...              ...  ...           ...          ...   \n",
       "9783       0.000000         0.000000  ...        177.80       177.80   \n",
       "9784       1.000000         4.666667  ...        170.18       180.34   \n",
       "9785       0.000000         0.000000  ...        193.04       198.12   \n",
       "9786       0.000000         3.500000  ...        172.72       177.80   \n",
       "9787       1.333333         0.833333  ...        190.50       190.50   \n",
       "\n",
       "      B_Weight_lbs  B_age  B_match_weightclass_rank  B_Pound-for-Pound_rank  \\\n",
       "0              205     29                      10.0                     NaN   \n",
       "1              170     32                       NaN                     NaN   \n",
       "2              185     32                       NaN                     NaN   \n",
       "3              155     32                       NaN                     NaN   \n",
       "4              145     33                       NaN                     NaN   \n",
       "...            ...    ...                       ...                     ...   \n",
       "9783           170     31                       NaN                     NaN   \n",
       "9784           170     27                       NaN                     NaN   \n",
       "9785           245     27                       NaN                     NaN   \n",
       "9786           170     29                       NaN                     NaN   \n",
       "9787           185     32                       NaN                     NaN   \n",
       "\n",
       "      B_Stance_Open Stance  B_Stance_Orthodox  B_Stance_Southpaw  \\\n",
       "0                      0.0                1.0                0.0   \n",
       "1                      0.0                1.0                0.0   \n",
       "2                      0.0                0.0                1.0   \n",
       "3                      0.0                1.0                0.0   \n",
       "4                      0.0                1.0                0.0   \n",
       "...                    ...                ...                ...   \n",
       "9783                   0.0                1.0                0.0   \n",
       "9784                   0.0                1.0                0.0   \n",
       "9785                   0.0                1.0                0.0   \n",
       "9786                   0.0                1.0                0.0   \n",
       "9787                   0.0                1.0                0.0   \n",
       "\n",
       "      B_Stance_Switch  \n",
       "0                 0.0  \n",
       "1                 0.0  \n",
       "2                 0.0  \n",
       "3                 0.0  \n",
       "4                 0.0  \n",
       "...               ...  \n",
       "9783              0.0  \n",
       "9784              0.0  \n",
       "9785              0.0  \n",
       "9786              0.0  \n",
       "9787              0.0  \n",
       "\n",
       "[9788 rows x 33 columns]"
      ]
     },
     "execution_count": 630,
     "metadata": {},
     "output_type": "execute_result"
    }
   ],
   "source": [
    "df.filter(regex='^B')"
   ]
  },
  {
   "cell_type": "code",
   "execution_count": 631,
   "metadata": {},
   "outputs": [
    {
     "data": {
      "text/plain": [
       "array([[<Axes: title={'center': 'R_age'}>,\n",
       "        <Axes: title={'center': 'B_age'}>],\n",
       "       [<Axes: title={'center': 'B_current_lose_streak'}>,\n",
       "        <Axes: title={'center': 'B_current_win_streak'}>],\n",
       "       [<Axes: title={'center': 'R_current_lose_streak'}>,\n",
       "        <Axes: title={'center': 'R_current_win_streak'}>]], dtype=object)"
      ]
     },
     "execution_count": 631,
     "metadata": {},
     "output_type": "execute_result"
    },
    {
     "data": {
      "image/png": "[encoded data removed]",
      "text/plain": [
       "<Figure size 640x480 with 6 Axes>"
      ]
     },
     "metadata": {},
     "output_type": "display_data"
    }
   ],
   "source": [
    "columns = ['R_age', 'B_age', 'B_current_lose_streak', 'B_current_win_streak',\n",
    "            'R_current_lose_streak', 'R_current_win_streak']\n",
    "df[columns].hist(bins=50)"
   ]
  },
  {
   "cell_type": "code",
   "execution_count": 632,
   "metadata": {},
   "outputs": [],
   "source": [
    "features = [\n",
    "    'B_avg_SIG_STR_landed',\n",
    "    'B_avg_SIG_STR_pct',\n",
    "    'B_avg_SUB_ATT',\n",
    "    'B_avg_TD_landed',\n",
    "    'B_avg_TD_pct',\n",
    "    'R_avg_SIG_STR_landed',\n",
    "    'R_avg_SIG_STR_pct',\n",
    "    'R_avg_SUB_ATT',\n",
    "    'R_avg_TD_landed',\n",
    "    'R_avg_TD_pct',\n",
    "    'B_Height_cms',\n",
    "    'B_Reach_cms',\n",
    "    'R_Height_cms',\n",
    "    'R_Reach_cms', \n",
    "    'R_age',\n",
    "    'B_age'\n",
    "]\n",
    "\n",
    "# List of columns to apply np.log\n",
    "columns_to_log = ['B_avg_SIG_STR_landed', 'B_avg_SUB_ATT', 'B_avg_TD_landed', \n",
    "                  'R_avg_SIG_STR_landed', 'R_avg_SUB_ATT', 'R_avg_TD_landed']\n",
    "\n",
    "# Applying np.log to each column in the list\n",
    "for col in columns_to_log:\n",
    "    # Adding a small constant to avoid log(0) which is undefined\n",
    "    df[col] = np.log(df[col] + 1e-5)\n"
   ]
  },
  {
   "cell_type": "code",
   "execution_count": 633,
   "metadata": {},
   "outputs": [],
   "source": [
    "X =df[features]\n",
    "y= df['Winner']"
   ]
  },
  {
   "cell_type": "code",
   "execution_count": 634,
   "metadata": {},
   "outputs": [],
   "source": [
    "y_encoded = y.apply(lambda x: 1 if x == 'Red' else 0)"
   ]
  },
  {
   "cell_type": "code",
   "execution_count": 635,
   "metadata": {},
   "outputs": [],
   "source": [
    "X_train, X_test, y_train, y_test = train_test_split(X, y_encoded, test_size=0.2, random_state=42)"
   ]
  },
  {
   "cell_type": "code",
   "execution_count": 636,
   "metadata": {},
   "outputs": [],
   "source": [
    "sScaler = StandardScaler()\n",
    "X_train_scaled = sScaler.fit_transform(X_train)\n",
    "X_test_scaled = sScaler.transform(X_test)"
   ]
  },
  {
   "cell_type": "code",
   "execution_count": 637,
   "metadata": {},
   "outputs": [
    {
     "data": {
      "text/html": [
       "<style>#sk-container-id-33 {color: black;}#sk-container-id-33 pre{padding: 0;}#sk-container-id-33 div.sk-toggleable {background-color: white;}#sk-container-id-33 label.sk-toggleable__label {cursor: pointer;display: block;width: 100%;margin-bottom: 0;padding: 0.3em;box-sizing: border-box;text-align: center;}#sk-container-id-33 label.sk-toggleable__label-arrow:before {content: \"▸\";float: left;margin-right: 0.25em;color: #696969;}#sk-container-id-33 label.sk-toggleable__label-arrow:hover:before {color: black;}#sk-container-id-33 div.sk-estimator:hover label.sk-toggleable__label-arrow:before {color: black;}#sk-container-id-33 div.sk-toggleable__content {max-height: 0;max-width: 0;overflow: hidden;text-align: left;background-color: #f0f8ff;}#sk-container-id-33 div.sk-toggleable__content pre {margin: 0.2em;color: black;border-radius: 0.25em;background-color: #f0f8ff;}#sk-container-id-33 input.sk-toggleable__control:checked~div.sk-toggleable__content {max-height: 200px;max-width: 100%;overflow: auto;}#sk-container-id-33 input.sk-toggleable__control:checked~label.sk-toggleable__label-arrow:before {content: \"▾\";}#sk-container-id-33 div.sk-estimator input.sk-toggleable__control:checked~label.sk-toggleable__label {background-color: #d4ebff;}#sk-container-id-33 div.sk-label input.sk-toggleable__control:checked~label.sk-toggleable__label {background-color: #d4ebff;}#sk-container-id-33 input.sk-hidden--visually {border: 0;clip: rect(1px 1px 1px 1px);clip: rect(1px, 1px, 1px, 1px);height: 1px;margin: -1px;overflow: hidden;padding: 0;position: absolute;width: 1px;}#sk-container-id-33 div.sk-estimator {font-family: monospace;background-color: #f0f8ff;border: 1px dotted black;border-radius: 0.25em;box-sizing: border-box;margin-bottom: 0.5em;}#sk-container-id-33 div.sk-estimator:hover {background-color: #d4ebff;}#sk-container-id-33 div.sk-parallel-item::after {content: \"\";width: 100%;border-bottom: 1px solid gray;flex-grow: 1;}#sk-container-id-33 div.sk-label:hover label.sk-toggleable__label {background-color: #d4ebff;}#sk-container-id-33 div.sk-serial::before {content: \"\";position: absolute;border-left: 1px solid gray;box-sizing: border-box;top: 0;bottom: 0;left: 50%;z-index: 0;}#sk-container-id-33 div.sk-serial {display: flex;flex-direction: column;align-items: center;background-color: white;padding-right: 0.2em;padding-left: 0.2em;position: relative;}#sk-container-id-33 div.sk-item {position: relative;z-index: 1;}#sk-container-id-33 div.sk-parallel {display: flex;align-items: stretch;justify-content: center;background-color: white;position: relative;}#sk-container-id-33 div.sk-item::before, #sk-container-id-33 div.sk-parallel-item::before {content: \"\";position: absolute;border-left: 1px solid gray;box-sizing: border-box;top: 0;bottom: 0;left: 50%;z-index: -1;}#sk-container-id-33 div.sk-parallel-item {display: flex;flex-direction: column;z-index: 1;position: relative;background-color: white;}#sk-container-id-33 div.sk-parallel-item:first-child::after {align-self: flex-end;width: 50%;}#sk-container-id-33 div.sk-parallel-item:last-child::after {align-self: flex-start;width: 50%;}#sk-container-id-33 div.sk-parallel-item:only-child::after {width: 0;}#sk-container-id-33 div.sk-dashed-wrapped {border: 1px dashed gray;margin: 0 0.4em 0.5em 0.4em;box-sizing: border-box;padding-bottom: 0.4em;background-color: white;}#sk-container-id-33 div.sk-label label {font-family: monospace;font-weight: bold;display: inline-block;line-height: 1.2em;}#sk-container-id-33 div.sk-label-container {text-align: center;}#sk-container-id-33 div.sk-container {/* jupyter's `normalize.less` sets `[hidden] { display: none; }` but bootstrap.min.css set `[hidden] { display: none !important; }` so we also need the `!important` here to be able to override the default hidden behavior on the sphinx rendered scikit-learn.org. See: https://github.com/scikit-learn/scikit-learn/issues/21755 */display: inline-block !important;position: relative;}#sk-container-id-33 div.sk-text-repr-fallback {display: none;}</style><div id=\"sk-container-id-33\" class=\"sk-top-container\"><div class=\"sk-text-repr-fallback\"><pre>LogisticRegression()</pre><b>In a Jupyter environment, please rerun this cell to show the HTML representation or trust the notebook. <br />On GitHub, the HTML representation is unable to render, please try loading this page with nbviewer.org.</b></div><div class=\"sk-container\" hidden><div class=\"sk-item\"><div class=\"sk-estimator sk-toggleable\"><input class=\"sk-toggleable__control sk-hidden--visually\" id=\"sk-estimator-id-33\" type=\"checkbox\" checked><label for=\"sk-estimator-id-33\" class=\"sk-toggleable__label sk-toggleable__label-arrow\">LogisticRegression</label><div class=\"sk-toggleable__content\"><pre>LogisticRegression()</pre></div></div></div></div></div>"
      ],
      "text/plain": [
       "LogisticRegression()"
      ]
     },
     "execution_count": 637,
     "metadata": {},
     "output_type": "execute_result"
    }
   ],
   "source": [
    "model_lin = LogisticRegression()\n",
    "model_lin.fit(X_train_scaled, y_train)"
   ]
  },
  {
   "cell_type": "code",
   "execution_count": 638,
   "metadata": {},
   "outputs": [],
   "source": [
    "y_pred_percent= model_lin.predict_proba(X_train_scaled)"
   ]
  },
  {
   "cell_type": "code",
   "execution_count": 639,
   "metadata": {},
   "outputs": [
    {
     "data": {
      "text/plain": [
       "array([[0.37910931, 0.62089069],\n",
       "       [0.39929001, 0.60070999],\n",
       "       [0.44892007, 0.55107993],\n",
       "       [0.55890412, 0.44109588],\n",
       "       [0.54751924, 0.45248076]])"
      ]
     },
     "execution_count": 639,
     "metadata": {},
     "output_type": "execute_result"
    }
   ],
   "source": [
    "#y_pred_percent = y_pred_proba * 100\n",
    "y_pred_percent[:5]"
   ]
  },
  {
   "cell_type": "code",
   "execution_count": 640,
   "metadata": {},
   "outputs": [],
   "source": [
    "y_pred_proba_df = pd.DataFrame(y_pred_percent, columns=['Probability_Blue', 'Probability_Red'])"
   ]
  },
  {
   "cell_type": "code",
   "execution_count": 641,
   "metadata": {},
   "outputs": [],
   "source": [
    "y_encoded_df = y_encoded.to_frame()\n",
    "result_df = pd.concat([df, y_pred_proba_df], axis=1)"
   ]
  },
  {
   "cell_type": "code",
   "execution_count": 642,
   "metadata": {},
   "outputs": [
    {
     "data": {
      "text/plain": [
       "Index(['R_fighter', 'B_fighter', 'R_odds', 'B_odds', 'R_ev', 'B_ev', 'date',\n",
       "       'location', 'country', 'Winner',\n",
       "       ...\n",
       "       'R_Stance_Orthodox', 'R_Stance_Southpaw', 'R_Stance_Switch',\n",
       "       'Winner_Blue', 'Winner_Red', 'better_rank_Blue', 'better_rank_Red',\n",
       "       'better_rank_neither', 'Probability_Blue', 'Probability_Red'],\n",
       "      dtype='object', length=110)"
      ]
     },
     "execution_count": 642,
     "metadata": {},
     "output_type": "execute_result"
    }
   ],
   "source": [
    "result_df.columns"
   ]
  },
  {
   "cell_type": "code",
   "execution_count": 643,
   "metadata": {},
   "outputs": [],
   "source": [
    "result_df=result_df[['R_fighter', 'B_fighter', 'Winner', 'R_odds', 'B_odds','R_ev', 'B_ev', 'Probability_Blue', 'Probability_Red']].copy()"
   ]
  },
  {
   "cell_type": "code",
   "execution_count": 644,
   "metadata": {},
   "outputs": [],
   "source": [
    "result_df['blue_difference'] = (result_df['Probability_Blue'] - result_df['B_odds'])\n",
    "result_df['red_difference'] = (result_df['Probability_Red'] - result_df['R_odds'])\n",
    "result_df=result_df.dropna()"
   ]
  },
  {
   "cell_type": "code",
   "execution_count": 645,
   "metadata": {},
   "outputs": [
    {
     "data": {
      "text/plain": [
       "Index(['R_fighter', 'B_fighter', 'Winner', 'R_odds', 'B_odds', 'R_ev', 'B_ev',\n",
       "       'Probability_Blue', 'Probability_Red', 'blue_difference',\n",
       "       'red_difference'],\n",
       "      dtype='object')"
      ]
     },
     "execution_count": 645,
     "metadata": {},
     "output_type": "execute_result"
    }
   ],
   "source": [
    "result_df.columns"
   ]
  },
  {
   "cell_type": "code",
   "execution_count": 656,
   "metadata": {},
   "outputs": [
    {
     "data": {
      "text/plain": [
       "1668"
      ]
     },
     "execution_count": 656,
     "metadata": {},
     "output_type": "execute_result"
    }
   ],
   "source": [
    "condition_blue = ((result_df['B_ev'] * result_df['Probability_Blue']) > 100)\n",
    "condition_red = ((result_df['R_ev'] * result_df['Probability_Red']) > 100)\n",
    "condition_blue.sum()"
   ]
  },
  {
   "cell_type": "code",
   "execution_count": 655,
   "metadata": {},
   "outputs": [
    {
     "name": "stdout",
     "output_type": "stream",
     "text": [
      "-1309\n"
     ]
    }
   ],
   "source": [
    "bank=0\n",
    "for index, row in result_df.iterrows():\n",
    "    # Check if the condition for betting on blue is True\n",
    "    if condition_blue[index]:\n",
    "        # Simulate the bet\n",
    "        bet_amount = 1  # You can adjust the bet amount based on your strategy\n",
    "        \n",
    "        # Check if blue won\n",
    "        if row['Winner'] == 'Blue':\n",
    "            # Add the B_ev to the bank\n",
    "            bank +=1\n",
    "            #bank += row['B_ev'] * (bet_amount / 100)\n",
    "        else:\n",
    "            # Subtract the bet amount from the bank\n",
    "            bank -= bet_amount\n",
    "print(bank)"
   ]
  },
  {
   "cell_type": "code",
   "execution_count": 648,
   "metadata": {},
   "outputs": [],
   "source": [
    "y_pred_train = model_lin.predict(X_train_scaled)\n",
    "y_pred_test = model_lin.predict(X_test_scaled)"
   ]
  },
  {
   "cell_type": "code",
   "execution_count": 649,
   "metadata": {},
   "outputs": [
    {
     "name": "stdout",
     "output_type": "stream",
     "text": [
      "Accuracy: 0.5761\n",
      "Confusion Matrix:\n",
      " [[570 395]\n",
      " [435 558]]\n",
      "Classification Report:\n",
      "               precision    recall  f1-score   support\n",
      "\n",
      "           0       0.57      0.59      0.58       965\n",
      "           1       0.59      0.56      0.57       993\n",
      "\n",
      "    accuracy                           0.58      1958\n",
      "   macro avg       0.58      0.58      0.58      1958\n",
      "weighted avg       0.58      0.58      0.58      1958\n",
      "\n"
     ]
    }
   ],
   "source": [
    "accuracy = accuracy_score(y_test, y_pred_test)\n",
    "conf_matrix = confusion_matrix(y_test, y_pred_test)\n",
    "classification_rep = classification_report(y_test, y_pred_test)\n",
    "\n",
    "# Print the evaluation metrics\n",
    "print(f\"Accuracy: {accuracy:.4f}\")\n",
    "print(\"Confusion Matrix:\\n\", conf_matrix)\n",
    "print(\"Classification Report:\\n\", classification_rep)"
   ]
  },
  {
   "cell_type": "code",
   "execution_count": 650,
   "metadata": {},
   "outputs": [
    {
     "name": "stdout",
     "output_type": "stream",
     "text": [
      "Train accuracy: 0.5780332056194125\n",
      "Train precsision: 0.5766760852812741\n",
      "Train recall: 0.5754934632145604\n"
     ]
    },
    {
     "data": {
      "image/png": "[encoded data removed]",
      "text/plain": [
       "<Figure size 640x480 with 2 Axes>"
      ]
     },
     "metadata": {},
     "output_type": "display_data"
    }
   ],
   "source": [
    "acc_train = accuracy_score(y_train, y_pred_train)\n",
    "cm_train = confusion_matrix(y_train, y_pred_train)\n",
    "ConfusionMatrixDisplay(cm_train).plot()\n",
    "tn = cm_train[0,0]\n",
    "fp = cm_train[0,1]\n",
    "fn = cm_train[1,0]\n",
    "tp = cm_train[1,1]\n",
    "precision = tp/(fp+tp)\n",
    "recall = tp/(tp+fn)\n",
    "\n",
    "print(f'Train accuracy: {acc_train}')\n",
    "print(f'Train precsision: {precision}')\n",
    "print(f'Train recall: {recall}')"
   ]
  },
  {
   "cell_type": "code",
   "execution_count": 651,
   "metadata": {},
   "outputs": [
    {
     "name": "stdout",
     "output_type": "stream",
     "text": [
      "Test accuracy: 0.5760980592441267\n",
      "Test precsision: 0.5855194123819517\n",
      "Test recall: 0.5619335347432024\n"
     ]
    },
    {
     "data": {
      "image/png": "[encoded data removed]",
      "text/plain": [
       "<Figure size 640x480 with 2 Axes>"
      ]
     },
     "metadata": {},
     "output_type": "display_data"
    }
   ],
   "source": [
    "acc_test = accuracy_score(y_test, y_pred_test)\n",
    "cm_test = confusion_matrix(y_test, y_pred_test)\n",
    "ConfusionMatrixDisplay(cm_test).plot()\n",
    "tn = cm_test[0,0]\n",
    "fp = cm_test[0,1]\n",
    "fn = cm_test[1,0]\n",
    "tp = cm_test[1,1]\n",
    "precision_test = tp/(fp+tp)\n",
    "recall_test = tp/(tp+fn)\n",
    "\n",
    "print(f'Test accuracy: {acc_test}')\n",
    "print(f'Test precsision: {precision_test}')\n",
    "print(f'Test recall: {recall_test}')"
   ]
  }
 ],
 "metadata": {
  "kernelspec": {
   "display_name": "Python 3",
   "language": "python",
   "name": "python3"
  },
  "language_info": {
   "codemirror_mode": {
    "name": "ipython",
    "version": 3
   },
   "file_extension": ".py",
   "mimetype": "text/x-python",
   "name": "python",
   "nbconvert_exporter": "python",
   "pygments_lexer": "ipython3",
   "version": "3.11.7"
  }
 },
 "nbformat": 4,
 "nbformat_minor": 2
}
