{
 "cells": [
  {
   "cell_type": "markdown",
   "metadata": {},
   "source": [
    "Logistic model for outcome of fight"
   ]
  },
  {
   "cell_type": "code",
   "execution_count": 1,
   "metadata": {},
   "outputs": [],
   "source": [
    "import pandas as pd\n",
    "import numpy as np\n",
    "from sklearn.linear_model import LinearRegression\n",
    "from sklearn.linear_model import LogisticRegression\n",
    "from sklearn.metrics import mean_absolute_error, mean_squared_error, r2_score\n",
    "from sklearn.model_selection import train_test_split\n",
    "#import matplotlib.pyplot as plt\n",
    "from sklearn.preprocessing import StandardScaler, MinMaxScaler\n",
    "#from sklearn.impute import SimpleImputer\n",
    "#from sklearn.preprocessing import OrdinalEncoder, OneHotEncoder\n",
    "from sklearn.metrics import accuracy_score, confusion_matrix, ConfusionMatrixDisplay, classification_report\n",
    "import matplotlib.pyplot as plt"
   ]
  },
  {
   "cell_type": "code",
   "execution_count": 2,
   "metadata": {},
   "outputs": [],
   "source": [
    "df = pd.read_csv('../CSV Files/df_ufc_masters_w_reversed.csv')"
   ]
  },
  {
   "cell_type": "code",
   "execution_count": 3,
   "metadata": {},
   "outputs": [],
   "source": [
    "features = [\n",
    "    'r_avg_sig_str_landed',\n",
    "    'r_avg_sig_str_pct',\n",
    "    'r_avg_sub_att',\n",
    "    'r_avg_td_landed',\n",
    "    'r_avg_td_pct',\n",
    "    'r_height_cms',\n",
    "    'r_reach_cms', \n",
    "    'r_age',\n",
    "    'b_avg_sig_str_landed',\n",
    "    'b_avg_sig_str_pct',\n",
    "    'b_avg_sub_att',\n",
    "    'b_avg_td_landed',\n",
    "    'b_avg_td_pct',\n",
    "    'b_height_cms',\n",
    "    'b_reach_cms', \n",
    "    'b_age']"
   ]
  },
  {
   "cell_type": "code",
   "execution_count": 4,
   "metadata": {},
   "outputs": [],
   "source": [
    "train_end_date = '2020-09-05'\n",
    "test_start_date = '2020-09-06'\n",
    "df_train = df[(df['date'] <= train_end_date)]\n",
    "df_test = df[(df['date'] >= test_start_date)]\n",
    "X_train =df_train[features]\n",
    "y_train= df_train['winner']\n",
    "X_test =df_test[features]\n",
    "y_test= df_test['winner']"
   ]
  },
  {
   "cell_type": "code",
   "execution_count": 5,
   "metadata": {},
   "outputs": [],
   "source": [
    "#X =df[features]\n",
    "#y= df['winner']\n",
    "#X_train, X_test, y_train, y_test = train_test_split(X, y_encoded, test_size=0.2, random_state=42)"
   ]
  },
  {
   "cell_type": "code",
   "execution_count": 6,
   "metadata": {},
   "outputs": [],
   "source": [
    "y_train_encoded = y_train.apply(lambda x: 1 if x == 'Red' else 0)\n",
    "y_test_encoded = y_test.apply(lambda x: 1 if x == 'Red' else 0)"
   ]
  },
  {
   "cell_type": "code",
   "execution_count": 7,
   "metadata": {},
   "outputs": [
    {
     "data": {
      "text/html": [
       "<style>#sk-container-id-1 {color: black;}#sk-container-id-1 pre{padding: 0;}#sk-container-id-1 div.sk-toggleable {background-color: white;}#sk-container-id-1 label.sk-toggleable__label {cursor: pointer;display: block;width: 100%;margin-bottom: 0;padding: 0.3em;box-sizing: border-box;text-align: center;}#sk-container-id-1 label.sk-toggleable__label-arrow:before {content: \"▸\";float: left;margin-right: 0.25em;color: #696969;}#sk-container-id-1 label.sk-toggleable__label-arrow:hover:before {color: black;}#sk-container-id-1 div.sk-estimator:hover label.sk-toggleable__label-arrow:before {color: black;}#sk-container-id-1 div.sk-toggleable__content {max-height: 0;max-width: 0;overflow: hidden;text-align: left;background-color: #f0f8ff;}#sk-container-id-1 div.sk-toggleable__content pre {margin: 0.2em;color: black;border-radius: 0.25em;background-color: #f0f8ff;}#sk-container-id-1 input.sk-toggleable__control:checked~div.sk-toggleable__content {max-height: 200px;max-width: 100%;overflow: auto;}#sk-container-id-1 input.sk-toggleable__control:checked~label.sk-toggleable__label-arrow:before {content: \"▾\";}#sk-container-id-1 div.sk-estimator input.sk-toggleable__control:checked~label.sk-toggleable__label {background-color: #d4ebff;}#sk-container-id-1 div.sk-label input.sk-toggleable__control:checked~label.sk-toggleable__label {background-color: #d4ebff;}#sk-container-id-1 input.sk-hidden--visually {border: 0;clip: rect(1px 1px 1px 1px);clip: rect(1px, 1px, 1px, 1px);height: 1px;margin: -1px;overflow: hidden;padding: 0;position: absolute;width: 1px;}#sk-container-id-1 div.sk-estimator {font-family: monospace;background-color: #f0f8ff;border: 1px dotted black;border-radius: 0.25em;box-sizing: border-box;margin-bottom: 0.5em;}#sk-container-id-1 div.sk-estimator:hover {background-color: #d4ebff;}#sk-container-id-1 div.sk-parallel-item::after {content: \"\";width: 100%;border-bottom: 1px solid gray;flex-grow: 1;}#sk-container-id-1 div.sk-label:hover label.sk-toggleable__label {background-color: #d4ebff;}#sk-container-id-1 div.sk-serial::before {content: \"\";position: absolute;border-left: 1px solid gray;box-sizing: border-box;top: 0;bottom: 0;left: 50%;z-index: 0;}#sk-container-id-1 div.sk-serial {display: flex;flex-direction: column;align-items: center;background-color: white;padding-right: 0.2em;padding-left: 0.2em;position: relative;}#sk-container-id-1 div.sk-item {position: relative;z-index: 1;}#sk-container-id-1 div.sk-parallel {display: flex;align-items: stretch;justify-content: center;background-color: white;position: relative;}#sk-container-id-1 div.sk-item::before, #sk-container-id-1 div.sk-parallel-item::before {content: \"\";position: absolute;border-left: 1px solid gray;box-sizing: border-box;top: 0;bottom: 0;left: 50%;z-index: -1;}#sk-container-id-1 div.sk-parallel-item {display: flex;flex-direction: column;z-index: 1;position: relative;background-color: white;}#sk-container-id-1 div.sk-parallel-item:first-child::after {align-self: flex-end;width: 50%;}#sk-container-id-1 div.sk-parallel-item:last-child::after {align-self: flex-start;width: 50%;}#sk-container-id-1 div.sk-parallel-item:only-child::after {width: 0;}#sk-container-id-1 div.sk-dashed-wrapped {border: 1px dashed gray;margin: 0 0.4em 0.5em 0.4em;box-sizing: border-box;padding-bottom: 0.4em;background-color: white;}#sk-container-id-1 div.sk-label label {font-family: monospace;font-weight: bold;display: inline-block;line-height: 1.2em;}#sk-container-id-1 div.sk-label-container {text-align: center;}#sk-container-id-1 div.sk-container {/* jupyter's `normalize.less` sets `[hidden] { display: none; }` but bootstrap.min.css set `[hidden] { display: none !important; }` so we also need the `!important` here to be able to override the default hidden behavior on the sphinx rendered scikit-learn.org. See: https://github.com/scikit-learn/scikit-learn/issues/21755 */display: inline-block !important;position: relative;}#sk-container-id-1 div.sk-text-repr-fallback {display: none;}</style><div id=\"sk-container-id-1\" class=\"sk-top-container\"><div class=\"sk-text-repr-fallback\"><pre>LogisticRegression()</pre><b>In a Jupyter environment, please rerun this cell to show the HTML representation or trust the notebook. <br />On GitHub, the HTML representation is unable to render, please try loading this page with nbviewer.org.</b></div><div class=\"sk-container\" hidden><div class=\"sk-item\"><div class=\"sk-estimator sk-toggleable\"><input class=\"sk-toggleable__control sk-hidden--visually\" id=\"sk-estimator-id-1\" type=\"checkbox\" checked><label for=\"sk-estimator-id-1\" class=\"sk-toggleable__label sk-toggleable__label-arrow\">LogisticRegression</label><div class=\"sk-toggleable__content\"><pre>LogisticRegression()</pre></div></div></div></div></div>"
      ],
      "text/plain": [
       "LogisticRegression()"
      ]
     },
     "execution_count": 7,
     "metadata": {},
     "output_type": "execute_result"
    }
   ],
   "source": [
    "model_lin = LogisticRegression()\n",
    "model_lin.fit(X_train, y_train_encoded)"
   ]
  },
  {
   "cell_type": "code",
   "execution_count": 8,
   "metadata": {},
   "outputs": [],
   "source": [
    "y_pred_percent= model_lin.predict_proba(X_test)"
   ]
  },
  {
   "cell_type": "code",
   "execution_count": 9,
   "metadata": {},
   "outputs": [
    {
     "data": {
      "text/plain": [
       "array([[0.63675856, 0.36324144],\n",
       "       [0.4698094 , 0.5301906 ],\n",
       "       [0.45321066, 0.54678934],\n",
       "       [0.39720378, 0.60279622],\n",
       "       [0.39246526, 0.60753474]])"
      ]
     },
     "execution_count": 9,
     "metadata": {},
     "output_type": "execute_result"
    }
   ],
   "source": [
    "#y_pred_percent = y_pred_proba * 100\n",
    "y_pred_percent[:5]"
   ]
  },
  {
   "cell_type": "code",
   "execution_count": 10,
   "metadata": {},
   "outputs": [],
   "source": [
    "y_pred_proba_df = pd.DataFrame(y_pred_percent, columns=['Probability_Blue', 'Probability_Red'])"
   ]
  },
  {
   "cell_type": "code",
   "execution_count": 11,
   "metadata": {},
   "outputs": [],
   "source": [
    "y_encoded_df = y_test_encoded.to_frame()\n",
    "result_df = pd.concat([df_test, y_pred_proba_df], axis=1)"
   ]
  },
  {
   "cell_type": "code",
   "execution_count": 12,
   "metadata": {},
   "outputs": [
    {
     "data": {
      "text/plain": [
       "Index(['r_fighter', 'b_fighter', 'r_odds', 'b_odds', 'r_ev', 'b_ev', 'date',\n",
       "       'location', 'country', 'winner', 'title_bout', 'weight_class', 'gender',\n",
       "       'no_of_rounds', 'b_current_lose_streak', 'b_current_win_streak',\n",
       "       'b_draw', 'b_avg_sig_str_landed', 'b_avg_sig_str_pct', 'b_avg_sub_att',\n",
       "       'b_avg_td_landed', 'b_avg_td_pct', 'b_longest_win_streak', 'b_losses',\n",
       "       'b_total_rounds_fought', 'b_total_title_bouts',\n",
       "       'b_win_by_decision_majority', 'b_win_by_decision_split',\n",
       "       'b_win_by_decision_unanimous', 'b_win_by_submission',\n",
       "       'b_win_by_tko_doctor_stoppage', 'b_wins', 'b_stance', 'b_height_cms',\n",
       "       'b_reach_cms', 'b_weight_lbs', 'r_current_lose_streak',\n",
       "       'r_current_win_streak', 'r_draw', 'r_avg_sig_str_landed',\n",
       "       'r_avg_sig_str_pct', 'r_avg_sub_att', 'r_avg_td_landed', 'r_avg_td_pct',\n",
       "       'r_longest_win_streak', 'r_losses', 'r_total_rounds_fought',\n",
       "       'r_total_title_bouts', 'r_win_by_decision_majority',\n",
       "       'r_win_by_decision_split', 'r_win_by_decision_unanimous',\n",
       "       'r_win_by_submission', 'r_win_by_tko_doctor_stoppage', 'r_wins',\n",
       "       'r_stance', 'r_height_cms', 'r_reach_cms', 'r_weight_lbs', 'r_age',\n",
       "       'b_age', 'lose_streak_dif', 'win_streak_dif', 'longest_win_streak_dif',\n",
       "       'win_dif', 'loss_dif', 'total_round_dif', 'total_title_bout_dif',\n",
       "       'ko_dif', 'sub_dif', 'height_dif', 'reach_dif', 'age_dif',\n",
       "       'sig_str_dif', 'avg_sub_att_dif', 'avg_td_dif', 'empty_arena',\n",
       "       'constant_1', 'finish', 'finish_details', 'finish_round',\n",
       "       'finish_round_time', 'total_fight_time_secs', 'r_dec_odds',\n",
       "       'b_dec_odds', 'r_sub_odds', 'b_sub_odds', 'r_ko_odds', 'b_ko_odds',\n",
       "       'Probability_Blue', 'Probability_Red'],\n",
       "      dtype='object')"
      ]
     },
     "execution_count": 12,
     "metadata": {},
     "output_type": "execute_result"
    }
   ],
   "source": [
    "result_df.columns"
   ]
  },
  {
   "cell_type": "code",
   "execution_count": 14,
   "metadata": {},
   "outputs": [],
   "source": [
    "result_df['blue_difference'] = (result_df['Probability_Blue'] - result_df['b_odds'])\n",
    "result_df['red_difference'] = (result_df['Probability_Red'] - result_df['r_odds'])\n",
    "result_df=result_df.dropna()"
   ]
  },
  {
   "cell_type": "code",
   "execution_count": 15,
   "metadata": {},
   "outputs": [
    {
     "data": {
      "text/plain": [
       "Index(['r_fighter', 'b_fighter', 'r_odds', 'b_odds', 'r_ev', 'b_ev', 'date',\n",
       "       'location', 'country', 'winner', 'title_bout', 'weight_class', 'gender',\n",
       "       'no_of_rounds', 'b_current_lose_streak', 'b_current_win_streak',\n",
       "       'b_draw', 'b_avg_sig_str_landed', 'b_avg_sig_str_pct', 'b_avg_sub_att',\n",
       "       'b_avg_td_landed', 'b_avg_td_pct', 'b_longest_win_streak', 'b_losses',\n",
       "       'b_total_rounds_fought', 'b_total_title_bouts',\n",
       "       'b_win_by_decision_majority', 'b_win_by_decision_split',\n",
       "       'b_win_by_decision_unanimous', 'b_win_by_submission',\n",
       "       'b_win_by_tko_doctor_stoppage', 'b_wins', 'b_stance', 'b_height_cms',\n",
       "       'b_reach_cms', 'b_weight_lbs', 'r_current_lose_streak',\n",
       "       'r_current_win_streak', 'r_draw', 'r_avg_sig_str_landed',\n",
       "       'r_avg_sig_str_pct', 'r_avg_sub_att', 'r_avg_td_landed', 'r_avg_td_pct',\n",
       "       'r_longest_win_streak', 'r_losses', 'r_total_rounds_fought',\n",
       "       'r_total_title_bouts', 'r_win_by_decision_majority',\n",
       "       'r_win_by_decision_split', 'r_win_by_decision_unanimous',\n",
       "       'r_win_by_submission', 'r_win_by_tko_doctor_stoppage', 'r_wins',\n",
       "       'r_stance', 'r_height_cms', 'r_reach_cms', 'r_weight_lbs', 'r_age',\n",
       "       'b_age', 'lose_streak_dif', 'win_streak_dif', 'longest_win_streak_dif',\n",
       "       'win_dif', 'loss_dif', 'total_round_dif', 'total_title_bout_dif',\n",
       "       'ko_dif', 'sub_dif', 'height_dif', 'reach_dif', 'age_dif',\n",
       "       'sig_str_dif', 'avg_sub_att_dif', 'avg_td_dif', 'empty_arena',\n",
       "       'constant_1', 'finish', 'finish_details', 'finish_round',\n",
       "       'finish_round_time', 'total_fight_time_secs', 'r_dec_odds',\n",
       "       'b_dec_odds', 'r_sub_odds', 'b_sub_odds', 'r_ko_odds', 'b_ko_odds',\n",
       "       'Probability_Blue', 'Probability_Red', 'blue_difference',\n",
       "       'red_difference'],\n",
       "      dtype='object')"
      ]
     },
     "execution_count": 15,
     "metadata": {},
     "output_type": "execute_result"
    }
   ],
   "source": [
    "result_df.columns"
   ]
  },
  {
   "cell_type": "code",
   "execution_count": 16,
   "metadata": {},
   "outputs": [
    {
     "data": {
      "text/plain": [
       "18"
      ]
     },
     "execution_count": 16,
     "metadata": {},
     "output_type": "execute_result"
    }
   ],
   "source": [
    "condition_blue = ((result_df['b_ev'] * result_df['Probability_Blue']) > 100)\n",
    "condition_red = ((result_df['r_ev'] * result_df['Probability_Red']) > 100)\n",
    "condition_blue.sum()"
   ]
  },
  {
   "cell_type": "code",
   "execution_count": 18,
   "metadata": {},
   "outputs": [
    {
     "name": "stdout",
     "output_type": "stream",
     "text": [
      "-14\n"
     ]
    }
   ],
   "source": [
    "bank=0\n",
    "for index, row in result_df.iterrows():\n",
    "    # Check if the condition for betting on blue is True\n",
    "    if condition_blue[index]:\n",
    "        # Simulate the bet\n",
    "        bet_amount = 1  # You can adjust the bet amount based on your strategy\n",
    "        \n",
    "        # Check if blue won\n",
    "        if row['winner'] == 'Blue':\n",
    "            # Add the B_ev to the bank\n",
    "            bank +=1\n",
    "            #bank += row['B_ev'] * (bet_amount / 100)\n",
    "        else:\n",
    "            # Subtract the bet amount from the bank\n",
    "            bank -= bet_amount\n",
    "print(bank)"
   ]
  },
  {
   "cell_type": "code",
   "execution_count": 19,
   "metadata": {},
   "outputs": [],
   "source": [
    "y_pred_train = model_lin.predict(X_train)\n",
    "y_pred_test = model_lin.predict(X_test)"
   ]
  },
  {
   "cell_type": "code",
   "execution_count": 21,
   "metadata": {},
   "outputs": [
    {
     "name": "stdout",
     "output_type": "stream",
     "text": [
      "Accuracy: 0.5693\n",
      "Confusion Matrix:\n",
      " [[304 230]\n",
      " [230 304]]\n",
      "Classification Report:\n",
      "               precision    recall  f1-score   support\n",
      "\n",
      "           0       0.57      0.57      0.57       534\n",
      "           1       0.57      0.57      0.57       534\n",
      "\n",
      "    accuracy                           0.57      1068\n",
      "   macro avg       0.57      0.57      0.57      1068\n",
      "weighted avg       0.57      0.57      0.57      1068\n",
      "\n"
     ]
    }
   ],
   "source": [
    "accuracy = accuracy_score(y_test_encoded, y_pred_test)\n",
    "conf_matrix = confusion_matrix(y_test_encoded, y_pred_test)\n",
    "classification_rep = classification_report(y_test_encoded, y_pred_test)\n",
    "\n",
    "# Print the evaluation metrics\n",
    "print(f\"Accuracy: {accuracy:.4f}\")\n",
    "print(\"Confusion Matrix:\\n\", conf_matrix)\n",
    "print(\"Classification Report:\\n\", classification_rep)"
   ]
  },
  {
   "cell_type": "code",
   "execution_count": 22,
   "metadata": {},
   "outputs": [
    {
     "name": "stdout",
     "output_type": "stream",
     "text": [
      "Train accuracy: 0.5788629069234296\n",
      "Train precsision: 0.5788629069234296\n",
      "Train recall: 0.5788629069234296\n"
     ]
    },
    {
     "data": {
      "image/png": "[encoded data removed]",
      "text/plain": [
       "<Figure size 640x480 with 2 Axes>"
      ]
     },
     "metadata": {},
     "output_type": "display_data"
    }
   ],
   "source": [
    "acc_train = accuracy_score(y_train_encoded, y_pred_train)\n",
    "cm_train = confusion_matrix(y_train_encoded, y_pred_train)\n",
    "ConfusionMatrixDisplay(cm_train).plot()\n",
    "tn = cm_train[0,0]\n",
    "fp = cm_train[0,1]\n",
    "fn = cm_train[1,0]\n",
    "tp = cm_train[1,1]\n",
    "precision = tp/(fp+tp)\n",
    "recall = tp/(tp+fn)\n",
    "\n",
    "print(f'Train accuracy: {acc_train}')\n",
    "print(f'Train precsision: {precision}')\n",
    "print(f'Train recall: {recall}')"
   ]
  },
  {
   "cell_type": "code",
   "execution_count": 25,
   "metadata": {},
   "outputs": [
    {
     "name": "stdout",
     "output_type": "stream",
     "text": [
      "Test accuracy: 0.5692883895131086\n",
      "Test precsision: 0.5692883895131086\n",
      "Test recall: 0.5692883895131086\n"
     ]
    },
    {
     "data": {
      "image/png": "[encoded data removed]",
      "text/plain": [
       "<Figure size 640x480 with 2 Axes>"
      ]
     },
     "metadata": {},
     "output_type": "display_data"
    }
   ],
   "source": [
    "acc_test = accuracy_score(y_test_encoded, y_pred_test)\n",
    "cm_test = confusion_matrix(y_test_encoded, y_pred_test)\n",
    "ConfusionMatrixDisplay(cm_test).plot()\n",
    "tn = cm_test[0,0]\n",
    "fp = cm_test[0,1]\n",
    "fn = cm_test[1,0]\n",
    "tp = cm_test[1,1]\n",
    "precision_test = tp/(fp+tp)\n",
    "recall_test = tp/(tp+fn)\n",
    "\n",
    "print(f'Test accuracy: {acc_test}')\n",
    "print(f'Test precsision: {precision_test}')\n",
    "print(f'Test recall: {recall_test}')"
   ]
  }
 ],
 "metadata": {
  "kernelspec": {
   "display_name": "Python 3",
   "language": "python",
   "name": "python3"
  },
  "language_info": {
   "codemirror_mode": {
    "name": "ipython",
    "version": 3
   },
   "file_extension": ".py",
   "mimetype": "text/x-python",
   "name": "python",
   "nbconvert_exporter": "python",
   "pygments_lexer": "ipython3",
   "version": "3.11.7"
  }
 },
 "nbformat": 4,
 "nbformat_minor": 2
}
